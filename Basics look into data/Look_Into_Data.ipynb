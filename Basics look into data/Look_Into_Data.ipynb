{
 "cells": [
  {
   "cell_type": "code",
   "execution_count": null,
   "metadata": {},
   "outputs": [],
   "source": [
    "import numpy as np\n",
    "import pandas as pd\n",
    "import matplotlib.pyplot as plt\n",
    "\n",
    "\n",
    "from matplotlib import cm\n",
    "from matplotlib.colors import ListedColormap, LinearSegmentedColormap\n",
    "\n",
    "N = 256\n",
    "vals = np.ones((N, 4))\n",
    "vals[:, 0] = np.linspace(255/256, 1, N)    ## red  255,192, 203\n",
    "vals[:, 1] = np.linspace(192/256, 1, N)\n",
    "vals[:, 2] = np.linspace(203/256, 1, N)  ## blue 75, 0, 130\n",
    "Pinks = ListedColormap(vals)\n",
    "\n",
    "\n",
    "top = cm.get_cmap(Pinks, 256)\n",
    "bottom = cm.get_cmap('Purples', 256)\n",
    "\n",
    "newcolors = np.vstack((top(np.linspace(0, 1, 256)),\n",
    "                       bottom(np.linspace(0, 1, 256))))\n",
    "\n",
    "newcmp = ListedColormap(newcolors, name='PinkPueple')"
   ]
  },
  {
   "cell_type": "code",
   "execution_count": null,
   "metadata": {},
   "outputs": [],
   "source": [
    "guests_characteristics = pd.read_csv('../data/Predykcyjne_guest_characteristics_.csv')\n",
    "guests_cusine =  pd.read_csv('../data/Predykcyjne_guest_cuisine_.csv')\n",
    "guests_payment =  pd.read_csv('../data/Predykcyjne_guest_payment_.csv')\n",
    "\n",
    "guests_characteristics.drop( 'Unnamed: 0', axis = 1, inplace = True)\n",
    "guests_cusine.drop( 'Unnamed: 0', axis = 1, inplace = True)\n",
    "guests_payment.drop( 'Unnamed: 0', axis = 1, inplace = True)\n",
    "\n",
    "restaurant_cusine =pd.read_csv('../data/Predykcyjne_restaurant_cuisine.csv')\n",
    "restaurant_open =pd.read_csv('../data/Predykcyjne_restaurant_open.csv')\n",
    "restaurant_parking =pd.read_csv('../data/Predykcyjne_restaurant_parking.csv')\n",
    "restaurant_payment =pd.read_csv('../data/Predykcyjne_restaurant_payment.csv')\n",
    "\n",
    "stars = pd.read_csv(\"../data/Predykcyjne_Stars_.csv\")"
   ]
  },
  {
   "cell_type": "markdown",
   "metadata": {},
   "source": [
    "## Guest Table"
   ]
  },
  {
   "cell_type": "code",
   "execution_count": null,
   "metadata": {},
   "outputs": [],
   "source": [
    "df_inner = pd.merge(guests_characteristics, guests_cusine, on='guestID', how='inner')\n",
    "guests = pd.merge(df_inner, guests_payment, on='guestID', how='inner')\n",
    "guests"
   ]
  },
  {
   "cell_type": "code",
   "execution_count": null,
   "metadata": {},
   "outputs": [],
   "source": [
    "my_info = [guests['smoking'].value_counts(),\n",
    "            guests['drinker'].value_counts(),\n",
    "            guests['dress_preference'].value_counts(),\n",
    "            guests['company'].value_counts(),\n",
    "            guests['transport'].value_counts(),\n",
    "            guests['marital_status'].value_counts(),\n",
    "            guests['interest'].value_counts(),\n",
    "            guests['religion'].value_counts(),\n",
    "            guests['activity'].value_counts(),\n",
    "            guests['color'].value_counts(),\n",
    "            guests['budget'].value_counts(),\n",
    "            guests['cuisine'].value_counts(),\n",
    "            guests['payment'].value_counts()]\n",
    "\n",
    "#for info in my_info:\n",
    "#    print(info, \"\\n\\n\")"
   ]
  },
  {
   "cell_type": "code",
   "execution_count": null,
   "metadata": {},
   "outputs": [],
   "source": [
    "guests.drop(guests.index[guests['dress_preference'] == '?'], inplace = True)\n",
    "guests.drop(guests.index[guests['company'] == '?'], inplace = True)\n",
    "guests.drop(guests.index[guests['transport'] == '?'], inplace = True)\n",
    "guests.drop(guests.index[guests['marital_status'] == '?'], inplace = True)\n",
    "guests.drop(guests.index[guests['activity'] == '?'], inplace = True)\n",
    "guests.drop(guests.index[guests['budget'] == '?'], inplace = True)\n",
    "guests"
   ]
  },
  {
   "cell_type": "markdown",
   "metadata": {},
   "source": [
    "## Merge stars with guests"
   ]
  },
  {
   "cell_type": "code",
   "execution_count": null,
   "metadata": {},
   "outputs": [],
   "source": [
    "stars_guests = pd.merge(guests, stars, on='guestID', how='inner')\n",
    "stars_guests.drop( 'Unnamed: 0', axis = 1, inplace = True)\n",
    "stars_guests.drop( 'guestID', axis = 1, inplace = True)\n",
    "\n",
    "stars_guests.drop_duplicates(inplace = True)\n",
    "stars_guests"
   ]
  },
  {
   "cell_type": "code",
   "execution_count": null,
   "metadata": {},
   "outputs": [],
   "source": [
    "stars_guests['smoking'] = stars_guests['smoking'].astype(object)\n",
    "stars_guests['drinker'] = stars_guests['drinker'].astype(object)\n",
    "stars_guests['dress_preference'] = stars_guests['dress_preference'].astype(object)\n",
    "stars_guests['company'] = stars_guests['company'].astype(object)\n",
    "stars_guests['transport'] = stars_guests['transport'].astype(object)\n",
    "stars_guests['marital_status'] = stars_guests['marital_status'].astype(object)\n",
    "stars_guests['interest'] = stars_guests['interest'].astype(object)\n",
    "stars_guests['religion'] = stars_guests['religion'].astype(object)\n",
    "stars_guests['activity'] = stars_guests['activity'].astype(object)\n",
    "stars_guests['budget'] = stars_guests['budget'].astype(object)\n",
    "stars_guests['cuisine'] = stars_guests['cuisine'].astype(object)\n",
    "stars_guests['payment'] = stars_guests['payment'].astype(object)\n",
    "stars_guests['color'] = stars_guests['color'].astype(object)\n",
    "\n",
    "# Some of the predictors are categorical. Lets produce some dummy variables\n",
    "categorical_bolean = (stars_guests.dtypes == \"object\").values\n",
    "data_numeric = stars_guests.loc[:, ~categorical_bolean]\n",
    "data_categorical = stars_guests.loc[:, categorical_bolean]\n",
    "data_dummies = pd.get_dummies(data_categorical)\n",
    "\n",
    "data = pd.concat([data_numeric, data_dummies], axis=1)\n",
    "data['target'] = data['stars']\n",
    "data.head()"
   ]
  },
  {
   "cell_type": "code",
   "execution_count": null,
   "metadata": {},
   "outputs": [],
   "source": [
    "corr_matrix = np.corrcoef(data.T)\n",
    "pd.DataFrame(corr_matrix)\n",
    "plt.figure(figsize=(10,10))\n",
    "plt.imshow(corr_matrix, cmap = newcmp, vmax = .5, vmin = -.5)\n",
    "plt.colorbar()\n",
    "plt.show()"
   ]
  },
  {
   "cell_type": "code",
   "execution_count": null,
   "metadata": {},
   "outputs": [],
   "source": [
    "n = len(corr_matrix[-1])\n",
    "t = np.linspace(0,n-1, n)\n",
    "plt.scatter(t, corr_matrix[-1], s=3, c='indigo')\n",
    "plt.hlines(y=0.005, xmin=0, xmax = 108, color = 'gray', alpha = 0.5)\n",
    "plt.hlines(y=-0.005, xmin=0, xmax = 108, color = 'gray', alpha = 0.5)\n",
    "plt.ylim(-0.03, 0.03)"
   ]
  },
  {
   "cell_type": "code",
   "execution_count": null,
   "metadata": {},
   "outputs": [],
   "source": [
    "indexes = list(np.where( abs(corr_matrix[-1]) < 0.005)[0])\n",
    "\n",
    "print(\"list of {:.2f} % columns that are weakly (corr < 0.05) corellated with target\\n\\n\".format( len(indexes)/n * 100))\n",
    "for name in data.columns[indexes]:\n",
    "    print(name)"
   ]
  },
  {
   "cell_type": "code",
   "execution_count": null,
   "metadata": {},
   "outputs": [],
   "source": [
    "indexes = list(np.where( abs(corr_matrix[-1]) >0.07)[0])\n",
    "\n",
    "print(\"list of {:.2f} % columns that are strongly (corr > 0.07) corellated with target\\n\\n\".format( len(indexes)/n * 100))\n",
    "for name in data.columns[indexes]:\n",
    "    print(name)"
   ]
  },
  {
   "cell_type": "code",
   "execution_count": null,
   "metadata": {},
   "outputs": [],
   "source": []
  },
  {
   "cell_type": "markdown",
   "metadata": {},
   "source": [
    "## Cash table"
   ]
  },
  {
   "cell_type": "code",
   "execution_count": null,
   "metadata": {},
   "outputs": [],
   "source": [
    "cash = pd.DataFrame(data['target'])\n",
    "cash['payment_cash'] = data['payment_cash']\n",
    "cash['payment_American_Express'] = data['payment_American_Express']\n",
    "cash['payment_MasterCard-Eurocard'] = data['payment_MasterCard-Eurocard']\n",
    "cash['payment_VISA'] = data['payment_VISA']\n",
    "cash['payment_bank_debit_cards'] = data['payment_bank_debit_cards']\n",
    "cash['budget_high'] = data['budget_high']\n",
    "cash['budget_low'] = data['budget_low']\n",
    "cash['budget_medium'] = data['budget_medium']\n",
    "\n",
    "cash"
   ]
  },
  {
   "cell_type": "code",
   "execution_count": null,
   "metadata": {},
   "outputs": [],
   "source": [
    "corr_matrix = np.corrcoef(cash.T)\n",
    "pd.DataFrame(corr_matrix)\n",
    "plt.figure(figsize=(10,10))\n",
    "plt.imshow(corr_matrix, cmap = newcmp, vmax = 0.2, vmin = -.2)\n",
    "plt.colorbar()\n",
    "plt.yticks([0,1,2,3,4,5,6,7,8])\n",
    "plt.xticks([0,1,2,3,4,5,6,7,8])\n",
    "plt.show()"
   ]
  },
  {
   "cell_type": "code",
   "execution_count": null,
   "metadata": {},
   "outputs": [],
   "source": []
  },
  {
   "cell_type": "markdown",
   "metadata": {},
   "source": [
    "## Restaurant Table"
   ]
  },
  {
   "cell_type": "code",
   "execution_count": null,
   "metadata": {},
   "outputs": [],
   "source": [
    "df_inner = pd.merge(restaurant_cusine, restaurant_open, on='restaurantID', how='inner')\n",
    "df_inner = pd.merge(df_inner, restaurant_parking, on='restaurantID', how='inner')\n",
    "restaurant = pd.merge(df_inner, restaurant_payment, on='restaurantID', how='inner')"
   ]
  },
  {
   "cell_type": "code",
   "execution_count": null,
   "metadata": {},
   "outputs": [],
   "source": [
    "restaurant['days;;;;;;;;'].value_counts()"
   ]
  },
  {
   "cell_type": "code",
   "execution_count": null,
   "metadata": {},
   "outputs": [],
   "source": [
    "restaurant['hours'].value_counts()"
   ]
  },
  {
   "cell_type": "code",
   "execution_count": null,
   "metadata": {},
   "outputs": [],
   "source": [
    "restaurant.replace(\"Mon;Tue;Wed;Thu;Fri;;;\", \"Workdays\", inplace=True)\n",
    "restaurant.replace(\"Mon;Tue;Wed;Thu;Fri;;\", \"Workdays\", inplace=True)\n",
    "restaurant.replace(\"Mon;Tue;Wed;Thu;Fri\", \"Workdays\",inplace=True)\n",
    "\n",
    "restaurant.replace(\"Sat;;;;;;;\", \"Sat\",inplace=True)\n",
    "restaurant.replace(\"Sat;;;;;;\", \"Sat\",inplace=True)\n",
    "restaurant.replace(\"Sat;;;;;\", \"Sat\",inplace=True)\n",
    "restaurant.replace(\"Sat;;;;\", \"Sat\",inplace=True)\n",
    "\n",
    "restaurant.replace(\"Sun;;;;;;;\", \"Sun\",inplace=True)\n",
    "restaurant.replace(\"Sun;;;;;;\", \"Sun\", inplace=True)\n",
    "restaurant.replace(\"Sun;;;;;\", \"Sun\",inplace=True)\n",
    "restaurant.replace(\"Sun;;;;\", \"Sun\",inplace=True)\n",
    "\n",
    "restaurant.rename(columns={\"days;;;;;;;;\" : \"days\"}, inplace=True)\n",
    "restaurant['days'].value_counts()"
   ]
  },
  {
   "cell_type": "code",
   "execution_count": null,
   "metadata": {},
   "outputs": [],
   "source": [
    "n = len(restaurant['hours'])\n",
    "opening = []\n",
    "closing = []\n",
    "long = []\n",
    "for i in range(n):\n",
    "    o = restaurant['hours'][i].split( \"-\" )[0]\n",
    "    o = int(o[:2])\n",
    "    c = restaurant['hours'][i].replace(\";\", \"-\").split( \"-\" )[1]\n",
    "    c = int(c[:2])\n",
    "    if c == 0:\n",
    "        c = 24\n",
    "    opening.append(o)\n",
    "    closing.append(c)\n",
    "    \n",
    "restaurant['opening'] = opening\n",
    "restaurant['closing'] = closing\n",
    "restaurant.head(20)"
   ]
  },
  {
   "cell_type": "code",
   "execution_count": null,
   "metadata": {},
   "outputs": [],
   "source": [
    "def get_open_marker(start, end, m):\n",
    "    \n",
    "    tmp = np.zeros(m, dtype = int)\n",
    "    \n",
    "    for j in range(m):\n",
    "        if restaurant['opening'][j] ==0 and restaurant['closing'][j] ==0:\n",
    "            tmp[j]=3\n",
    "            \n",
    "        elif restaurant['opening'][j] < restaurant['closing'][j]:\n",
    "            if restaurant['opening'][j] <= start and  restaurant['closing'][j] >= end:\n",
    "                tmp[j]=1\n",
    "            \n",
    "        elif restaurant['opening'][j] > restaurant['closing'][i]:\n",
    "            if restaurant['closing'][j] <= start and restaurant['opening'][j]>= end:\n",
    "                tmp[j]=0\n",
    "            else:\n",
    "                tmp[j]=1\n",
    "      \n",
    "    \n",
    "    return tmp\n",
    "            "
   ]
  },
  {
   "cell_type": "code",
   "execution_count": null,
   "metadata": {},
   "outputs": [],
   "source": [
    "m = len(restaurant['hours'])\n",
    "restaurant['open_00_01'] = get_open_marker(0, 1, m)\n",
    "restaurant['open_01_02'] = get_open_marker(1, 2, m)\n",
    "restaurant['open_02_03'] = get_open_marker(2, 3, m)\n",
    "restaurant['open_03_04'] = get_open_marker(3, 4, m)\n",
    "restaurant['open_04_05'] = get_open_marker(4, 5, m)\n",
    "restaurant['open_05_06'] = get_open_marker(5, 6, m)\n",
    "restaurant['open_06_07'] = get_open_marker(6, 7, m)\n",
    "restaurant['open_07_08'] = get_open_marker(7, 8, m)\n",
    "restaurant['open_08_09'] = get_open_marker(8, 9, m)\n",
    "restaurant['open_09_10'] = get_open_marker(9, 10, m)\n",
    "restaurant['open_10_11'] = get_open_marker(10, 11, m)\n",
    "restaurant['open_11_12'] = get_open_marker(11, 12, m)\n",
    "restaurant['open_12_13'] = get_open_marker(12, 13, m)\n",
    "restaurant['open_13_14'] = get_open_marker(13, 14, m)\n",
    "restaurant['open_14_15'] = get_open_marker(14, 15, m)\n",
    "restaurant['open_15_16'] = get_open_marker(15, 16, m)\n",
    "restaurant['open_16_17'] = get_open_marker(16, 17, m)\n",
    "restaurant['open_17_18'] = get_open_marker(17, 18, m)\n",
    "restaurant['open_18_19'] = get_open_marker(18, 19, m)\n",
    "restaurant['open_19_20'] = get_open_marker(19, 20, m)\n",
    "restaurant['open_20_21'] = get_open_marker(20, 21, m)\n",
    "restaurant['open_21_22'] = get_open_marker(21, 22, m)\n",
    "restaurant['open_22_23'] = get_open_marker(22, 23, m)\n",
    "restaurant['open_23_24'] = get_open_marker(23, 24, m)"
   ]
  },
  {
   "cell_type": "code",
   "execution_count": null,
   "metadata": {},
   "outputs": [],
   "source": [
    "restaurant.head(10)"
   ]
  },
  {
   "cell_type": "code",
   "execution_count": null,
   "metadata": {},
   "outputs": [],
   "source": [
    "stars_restaurant = pd.merge(restaurant, stars, on='restaurantID', how='inner')\n",
    "stars_restaurant.drop('hours', axis = 1, inplace = True)\n",
    "stars_restaurant.drop('Unnamed: 0', axis = 1, inplace = True)\n",
    "stars_restaurant.drop('guestID', axis = 1, inplace = True)\n",
    "\n",
    "stars_restaurant"
   ]
  },
  {
   "cell_type": "code",
   "execution_count": null,
   "metadata": {},
   "outputs": [],
   "source": [
    "stars_restaurant['cuisine'] = stars_restaurant['cuisine'].astype(object)\n",
    "stars_restaurant['days'] = stars_restaurant['days'].astype(object)\n",
    "stars_restaurant['parking_lot'] = stars_restaurant['parking_lot'].astype(object)\n",
    "stars_restaurant['payment'] = stars_restaurant['payment'].astype(object)\n",
    "\n",
    "\n",
    "# Some of the predictors are categorical. Lets produce some dummy variables\n",
    "categorical_bolean = (stars_restaurant.dtypes == \"object\").values\n",
    "data_numeric = stars_restaurant.loc[:, ~categorical_bolean]\n",
    "data_categorical = stars_restaurant.loc[:, categorical_bolean]\n",
    "data_dummies = pd.get_dummies(data_categorical)\n",
    "\n",
    "data = pd.concat([data_numeric, data_dummies], axis=1)\n",
    "data['target'] = data['stars']\n",
    "data.head()"
   ]
  },
  {
   "cell_type": "code",
   "execution_count": null,
   "metadata": {},
   "outputs": [],
   "source": [
    "corr_matrix = np.corrcoef(data.T)\n",
    "pd.DataFrame(corr_matrix)\n",
    "plt.figure(figsize=(10,10))\n",
    "plt.imshow(corr_matrix, cmap = newcmp, vmax = .5, vmin = -.5)\n",
    "plt.colorbar()\n",
    "plt.show()"
   ]
  },
  {
   "cell_type": "code",
   "execution_count": null,
   "metadata": {},
   "outputs": [],
   "source": [
    "n = len(corr_matrix[-1])\n",
    "t = np.linspace(0,n-1, n)\n",
    "plt.scatter(t, corr_matrix[-1], s=3, c='indigo')\n",
    "plt.hlines(y=0.01, xmin=0, xmax = 70, color = 'gray', alpha = 0.5)\n",
    "plt.hlines(y=-0.01, xmin=0, xmax = 70, color = 'gray', alpha = 0.5)\n",
    "plt.ylim(-0.1, 0.1)\n"
   ]
  },
  {
   "cell_type": "code",
   "execution_count": null,
   "metadata": {},
   "outputs": [],
   "source": [
    "indexes = list(np.where( abs(corr_matrix[-1]) < 0.005)[0])\n",
    "\n",
    "print(\"list of {:.2f} % columns that are weakly (corr < 0.005) corellated with target\\n\\n\".format( len(indexes)/n * 100))\n",
    "for name in data.columns[indexes]:\n",
    "    print(name)"
   ]
  },
  {
   "cell_type": "code",
   "execution_count": null,
   "metadata": {},
   "outputs": [],
   "source": [
    "indexes = list(np.where( abs(corr_matrix[-1]) >0.01)[0])\n",
    "\n",
    "print(\"list of {:.2f} % columns that are strongly (corr > 0.01) corellated with target\\n\\n\".format( len(indexes)/n * 100))\n",
    "for name in data.columns[indexes]:\n",
    "    print(name)"
   ]
  },
  {
   "cell_type": "code",
   "execution_count": null,
   "metadata": {},
   "outputs": [],
   "source": [
    "indexes = list(np.where( abs(corr_matrix[-1]) >0.05)[0])\n",
    "\n",
    "print(\"list of {:.2f} % columns that are very strongly (corr > 0.05) corellated with target\\n\\n\".format( len(indexes)/n * 100))\n",
    "for name in data.columns[indexes]:\n",
    "    print(name)"
   ]
  },
  {
   "cell_type": "markdown",
   "metadata": {},
   "source": [
    "# Stars table"
   ]
  },
  {
   "cell_type": "code",
   "execution_count": null,
   "metadata": {},
   "outputs": [],
   "source": [
    "stars.drop( 'Unnamed: 0', axis = 1, inplace = True)\n",
    "guestID = []\n",
    "for i in range(len(stars)):\n",
    "    guestID.append(int(stars['guestID'][i][1:]))\n",
    "stars['guestID'] = guestID"
   ]
  },
  {
   "cell_type": "code",
   "execution_count": null,
   "metadata": {
    "scrolled": true
   },
   "outputs": [],
   "source": [
    "corr_matrix = np.corrcoef(stars.T)\n",
    "pd.DataFrame(corr_matrix)\n",
    "plt.figure(figsize=(10,10))\n",
    "plt.imshow(corr_matrix, cmap = newcmp, vmax = 1, vmin = -1)\n",
    "plt.colorbar()\n",
    "plt.show()"
   ]
  },
  {
   "cell_type": "markdown",
   "metadata": {},
   "source": [
    "## Comment:\n",
    "\n",
    "Based on the correlation matrices for guests, restaurants and stars I decided to remove from future data sets columns: \n",
    "* \"opening\" and \"days\" in restaurants data frame (reason: small correlation with target) \n",
    "* \"payment\" (reason:  we have also acces to how clients pay for dinner, so as long we know, that the client managed to pay, we dont need to know, which other methods were avaiable). \n",
    "* \"guestID\", \"restaurantID\", \"stars\" (they are practically independent)\n",
    "\n",
    "I also replace \"birth_year\" with \"age\" calculated as age = (2021 - birth_year)\n"
   ]
  },
  {
   "cell_type": "code",
   "execution_count": null,
   "metadata": {},
   "outputs": [],
   "source": []
  }
 ],
 "metadata": {
  "kernelspec": {
   "display_name": "Python 3",
   "language": "python",
   "name": "python3"
  },
  "language_info": {
   "codemirror_mode": {
    "name": "ipython",
    "version": 3
   },
   "file_extension": ".py",
   "mimetype": "text/x-python",
   "name": "python",
   "nbconvert_exporter": "python",
   "pygments_lexer": "ipython3",
   "version": "3.8.5"
  }
 },
 "nbformat": 4,
 "nbformat_minor": 4
}
