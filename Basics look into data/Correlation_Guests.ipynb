{
 "cells": [
  {
   "cell_type": "code",
   "execution_count": 1,
   "metadata": {},
   "outputs": [],
   "source": [
    "import numpy as np\n",
    "import pandas as pd\n",
    "import matplotlib.pyplot as plt\n",
    "\n",
    "\n",
    "from matplotlib import cm\n",
    "from matplotlib.colors import ListedColormap, LinearSegmentedColormap\n",
    "\n",
    "N = 256\n",
    "vals = np.ones((N, 4))\n",
    "vals[:, 0] = np.linspace(255/256, 1, N)    ## red  255,192, 203\n",
    "vals[:, 1] = np.linspace(192/256, 1, N)\n",
    "vals[:, 2] = np.linspace(203/256, 1, N)  ## blue 75, 0, 130\n",
    "Pinks = ListedColormap(vals)\n",
    "\n",
    "\n",
    "top = cm.get_cmap(Pinks, 256)\n",
    "bottom = cm.get_cmap('Purples', 256)\n",
    "\n",
    "newcolors = np.vstack((top(np.linspace(0, 1, 256)),\n",
    "                       bottom(np.linspace(0, 1, 256))))\n",
    "\n",
    "newcmp = ListedColormap(newcolors, name='PinkPueple')"
   ]
  },
  {
   "cell_type": "code",
   "execution_count": 2,
   "metadata": {},
   "outputs": [],
   "source": [
    "guests_characteristics = pd.read_csv('../data/Predykcyjne_guest_characteristics_.csv')\n",
    "guests_cusine =  pd.read_csv('../data/Predykcyjne_guest_cuisine_.csv')\n",
    "guests_payment =  pd.read_csv('../data/Predykcyjne_guest_payment_.csv')\n",
    "\n",
    "guests_characteristics.drop( 'Unnamed: 0', axis = 1, inplace = True)\n",
    "guests_cusine.drop( 'Unnamed: 0', axis = 1, inplace = True)\n",
    "guests_payment.drop( 'Unnamed: 0', axis = 1, inplace = True)\n",
    "\n",
    "restaurant_cusine =pd.read_csv('../data/Predykcyjne_restaurant_cuisine.csv')\n",
    "restaurant_open =pd.read_csv('../data/Predykcyjne_restaurant_open.csv')\n",
    "restaurant_parking =pd.read_csv('../data/Predykcyjne_restaurant_parking.csv')\n",
    "restaurant_payment =pd.read_csv('../data/Predykcyjne_restaurant_payment.csv')\n",
    "\n",
    "stars = pd.read_csv(\"../data/Predykcyjne_Stars_.csv\")"
   ]
  },
  {
   "cell_type": "markdown",
   "metadata": {},
   "source": [
    "## Guest Table"
   ]
  },
  {
   "cell_type": "code",
   "execution_count": 3,
   "metadata": {},
   "outputs": [
    {
     "data": {
      "text/html": [
       "<div>\n",
       "<style scoped>\n",
       "    .dataframe tbody tr th:only-of-type {\n",
       "        vertical-align: middle;\n",
       "    }\n",
       "\n",
       "    .dataframe tbody tr th {\n",
       "        vertical-align: top;\n",
       "    }\n",
       "\n",
       "    .dataframe thead th {\n",
       "        text-align: right;\n",
       "    }\n",
       "</style>\n",
       "<table border=\"1\" class=\"dataframe\">\n",
       "  <thead>\n",
       "    <tr style=\"text-align: right;\">\n",
       "      <th></th>\n",
       "      <th>guestID</th>\n",
       "      <th>smoking</th>\n",
       "      <th>drinker</th>\n",
       "      <th>dress_preference</th>\n",
       "      <th>company</th>\n",
       "      <th>transport</th>\n",
       "      <th>marital_status</th>\n",
       "      <th>birth_year</th>\n",
       "      <th>interest</th>\n",
       "      <th>religion</th>\n",
       "      <th>activity</th>\n",
       "      <th>color</th>\n",
       "      <th>weight</th>\n",
       "      <th>budget</th>\n",
       "      <th>height</th>\n",
       "      <th>cuisine</th>\n",
       "      <th>payment</th>\n",
       "    </tr>\n",
       "  </thead>\n",
       "  <tbody>\n",
       "    <tr>\n",
       "      <th>0</th>\n",
       "      <td>U1001</td>\n",
       "      <td>false</td>\n",
       "      <td>abstemious</td>\n",
       "      <td>informal</td>\n",
       "      <td>family</td>\n",
       "      <td>on foot</td>\n",
       "      <td>single</td>\n",
       "      <td>1989</td>\n",
       "      <td>variety</td>\n",
       "      <td>none</td>\n",
       "      <td>student</td>\n",
       "      <td>black</td>\n",
       "      <td>69</td>\n",
       "      <td>medium</td>\n",
       "      <td>1.77</td>\n",
       "      <td>American</td>\n",
       "      <td>cash</td>\n",
       "    </tr>\n",
       "    <tr>\n",
       "      <th>1</th>\n",
       "      <td>U1002</td>\n",
       "      <td>false</td>\n",
       "      <td>abstemious</td>\n",
       "      <td>informal</td>\n",
       "      <td>family</td>\n",
       "      <td>public</td>\n",
       "      <td>single</td>\n",
       "      <td>1990</td>\n",
       "      <td>technology</td>\n",
       "      <td>Catholic</td>\n",
       "      <td>student</td>\n",
       "      <td>red</td>\n",
       "      <td>40</td>\n",
       "      <td>low</td>\n",
       "      <td>1.87</td>\n",
       "      <td>Mexican</td>\n",
       "      <td>cash</td>\n",
       "    </tr>\n",
       "    <tr>\n",
       "      <th>2</th>\n",
       "      <td>U1003</td>\n",
       "      <td>false</td>\n",
       "      <td>social drinker</td>\n",
       "      <td>formal</td>\n",
       "      <td>family</td>\n",
       "      <td>public</td>\n",
       "      <td>single</td>\n",
       "      <td>1989</td>\n",
       "      <td>none</td>\n",
       "      <td>Catholic</td>\n",
       "      <td>student</td>\n",
       "      <td>blue</td>\n",
       "      <td>60</td>\n",
       "      <td>low</td>\n",
       "      <td>1.69</td>\n",
       "      <td>Mexican</td>\n",
       "      <td>cash</td>\n",
       "    </tr>\n",
       "    <tr>\n",
       "      <th>3</th>\n",
       "      <td>U1004</td>\n",
       "      <td>false</td>\n",
       "      <td>abstemious</td>\n",
       "      <td>informal</td>\n",
       "      <td>family</td>\n",
       "      <td>public</td>\n",
       "      <td>single</td>\n",
       "      <td>1940</td>\n",
       "      <td>variety</td>\n",
       "      <td>none</td>\n",
       "      <td>professional</td>\n",
       "      <td>green</td>\n",
       "      <td>44</td>\n",
       "      <td>medium</td>\n",
       "      <td>1.53</td>\n",
       "      <td>Bakery</td>\n",
       "      <td>cash</td>\n",
       "    </tr>\n",
       "    <tr>\n",
       "      <th>4</th>\n",
       "      <td>U1004</td>\n",
       "      <td>false</td>\n",
       "      <td>abstemious</td>\n",
       "      <td>informal</td>\n",
       "      <td>family</td>\n",
       "      <td>public</td>\n",
       "      <td>single</td>\n",
       "      <td>1940</td>\n",
       "      <td>variety</td>\n",
       "      <td>none</td>\n",
       "      <td>professional</td>\n",
       "      <td>green</td>\n",
       "      <td>44</td>\n",
       "      <td>medium</td>\n",
       "      <td>1.53</td>\n",
       "      <td>Bakery</td>\n",
       "      <td>bank_debit_cards</td>\n",
       "    </tr>\n",
       "    <tr>\n",
       "      <th>...</th>\n",
       "      <td>...</td>\n",
       "      <td>...</td>\n",
       "      <td>...</td>\n",
       "      <td>...</td>\n",
       "      <td>...</td>\n",
       "      <td>...</td>\n",
       "      <td>...</td>\n",
       "      <td>...</td>\n",
       "      <td>...</td>\n",
       "      <td>...</td>\n",
       "      <td>...</td>\n",
       "      <td>...</td>\n",
       "      <td>...</td>\n",
       "      <td>...</td>\n",
       "      <td>...</td>\n",
       "      <td>...</td>\n",
       "      <td>...</td>\n",
       "    </tr>\n",
       "    <tr>\n",
       "      <th>294</th>\n",
       "      <td>U1127</td>\n",
       "      <td>false</td>\n",
       "      <td>abstemious</td>\n",
       "      <td>no preference</td>\n",
       "      <td>solitary</td>\n",
       "      <td>public</td>\n",
       "      <td>single</td>\n",
       "      <td>1992</td>\n",
       "      <td>variety</td>\n",
       "      <td>Catholic</td>\n",
       "      <td>student</td>\n",
       "      <td>black</td>\n",
       "      <td>65</td>\n",
       "      <td>low</td>\n",
       "      <td>1.76</td>\n",
       "      <td>Mexican</td>\n",
       "      <td>cash</td>\n",
       "    </tr>\n",
       "    <tr>\n",
       "      <th>295</th>\n",
       "      <td>U1128</td>\n",
       "      <td>false</td>\n",
       "      <td>casual drinker</td>\n",
       "      <td>no preference</td>\n",
       "      <td>friends</td>\n",
       "      <td>public</td>\n",
       "      <td>single</td>\n",
       "      <td>1986</td>\n",
       "      <td>variety</td>\n",
       "      <td>Catholic</td>\n",
       "      <td>student</td>\n",
       "      <td>red</td>\n",
       "      <td>66</td>\n",
       "      <td>low</td>\n",
       "      <td>1.72</td>\n",
       "      <td>Cafeteria</td>\n",
       "      <td>cash</td>\n",
       "    </tr>\n",
       "    <tr>\n",
       "      <th>296</th>\n",
       "      <td>U1128</td>\n",
       "      <td>false</td>\n",
       "      <td>casual drinker</td>\n",
       "      <td>no preference</td>\n",
       "      <td>friends</td>\n",
       "      <td>public</td>\n",
       "      <td>single</td>\n",
       "      <td>1986</td>\n",
       "      <td>variety</td>\n",
       "      <td>Catholic</td>\n",
       "      <td>student</td>\n",
       "      <td>red</td>\n",
       "      <td>66</td>\n",
       "      <td>low</td>\n",
       "      <td>1.72</td>\n",
       "      <td>Hot_Dogs</td>\n",
       "      <td>cash</td>\n",
       "    </tr>\n",
       "    <tr>\n",
       "      <th>297</th>\n",
       "      <td>U1128</td>\n",
       "      <td>false</td>\n",
       "      <td>casual drinker</td>\n",
       "      <td>no preference</td>\n",
       "      <td>friends</td>\n",
       "      <td>public</td>\n",
       "      <td>single</td>\n",
       "      <td>1986</td>\n",
       "      <td>variety</td>\n",
       "      <td>Catholic</td>\n",
       "      <td>student</td>\n",
       "      <td>red</td>\n",
       "      <td>66</td>\n",
       "      <td>low</td>\n",
       "      <td>1.72</td>\n",
       "      <td>Pizzeria</td>\n",
       "      <td>cash</td>\n",
       "    </tr>\n",
       "    <tr>\n",
       "      <th>298</th>\n",
       "      <td>U1128</td>\n",
       "      <td>false</td>\n",
       "      <td>casual drinker</td>\n",
       "      <td>no preference</td>\n",
       "      <td>friends</td>\n",
       "      <td>public</td>\n",
       "      <td>single</td>\n",
       "      <td>1986</td>\n",
       "      <td>variety</td>\n",
       "      <td>Catholic</td>\n",
       "      <td>student</td>\n",
       "      <td>red</td>\n",
       "      <td>66</td>\n",
       "      <td>low</td>\n",
       "      <td>1.72</td>\n",
       "      <td>Mexican</td>\n",
       "      <td>cash</td>\n",
       "    </tr>\n",
       "  </tbody>\n",
       "</table>\n",
       "<p>299 rows × 17 columns</p>\n",
       "</div>"
      ],
      "text/plain": [
       "    guestID smoking         drinker dress_preference   company transport  \\\n",
       "0     U1001   false      abstemious         informal    family   on foot   \n",
       "1     U1002   false      abstemious         informal    family    public   \n",
       "2     U1003   false  social drinker           formal    family    public   \n",
       "3     U1004   false      abstemious         informal    family    public   \n",
       "4     U1004   false      abstemious         informal    family    public   \n",
       "..      ...     ...             ...              ...       ...       ...   \n",
       "294   U1127   false      abstemious    no preference  solitary    public   \n",
       "295   U1128   false  casual drinker    no preference   friends    public   \n",
       "296   U1128   false  casual drinker    no preference   friends    public   \n",
       "297   U1128   false  casual drinker    no preference   friends    public   \n",
       "298   U1128   false  casual drinker    no preference   friends    public   \n",
       "\n",
       "    marital_status  birth_year    interest  religion      activity  color  \\\n",
       "0           single        1989     variety      none       student  black   \n",
       "1           single        1990  technology  Catholic       student    red   \n",
       "2           single        1989        none  Catholic       student   blue   \n",
       "3           single        1940     variety      none  professional  green   \n",
       "4           single        1940     variety      none  professional  green   \n",
       "..             ...         ...         ...       ...           ...    ...   \n",
       "294         single        1992     variety  Catholic       student  black   \n",
       "295         single        1986     variety  Catholic       student    red   \n",
       "296         single        1986     variety  Catholic       student    red   \n",
       "297         single        1986     variety  Catholic       student    red   \n",
       "298         single        1986     variety  Catholic       student    red   \n",
       "\n",
       "     weight  budget  height    cuisine           payment  \n",
       "0        69  medium    1.77   American              cash  \n",
       "1        40     low    1.87    Mexican              cash  \n",
       "2        60     low    1.69    Mexican              cash  \n",
       "3        44  medium    1.53     Bakery              cash  \n",
       "4        44  medium    1.53     Bakery  bank_debit_cards  \n",
       "..      ...     ...     ...        ...               ...  \n",
       "294      65     low    1.76    Mexican              cash  \n",
       "295      66     low    1.72  Cafeteria              cash  \n",
       "296      66     low    1.72   Hot_Dogs              cash  \n",
       "297      66     low    1.72   Pizzeria              cash  \n",
       "298      66     low    1.72    Mexican              cash  \n",
       "\n",
       "[299 rows x 17 columns]"
      ]
     },
     "execution_count": 3,
     "metadata": {},
     "output_type": "execute_result"
    }
   ],
   "source": [
    "df_inner = pd.merge(guests_characteristics, guests_cusine, on='guestID', how='inner')\n",
    "guests = pd.merge(df_inner, guests_payment, on='guestID', how='inner')\n",
    "guests"
   ]
  },
  {
   "cell_type": "code",
   "execution_count": 4,
   "metadata": {},
   "outputs": [],
   "source": [
    "my_info = [guests['smoking'].value_counts(),\n",
    "            guests['drinker'].value_counts(),\n",
    "            guests['dress_preference'].value_counts(),\n",
    "            guests['company'].value_counts(),\n",
    "            guests['transport'].value_counts(),\n",
    "            guests['marital_status'].value_counts(),\n",
    "            guests['interest'].value_counts(),\n",
    "            guests['religion'].value_counts(),\n",
    "            guests['activity'].value_counts(),\n",
    "            guests['color'].value_counts(),\n",
    "            guests['budget'].value_counts(),\n",
    "            guests['cuisine'].value_counts(),\n",
    "            guests['payment'].value_counts()]\n",
    "\n",
    "#for info in my_info:\n",
    "#    print(info, \"\\n\\n\")"
   ]
  },
  {
   "cell_type": "code",
   "execution_count": 5,
   "metadata": {},
   "outputs": [
    {
     "data": {
      "text/html": [
       "<div>\n",
       "<style scoped>\n",
       "    .dataframe tbody tr th:only-of-type {\n",
       "        vertical-align: middle;\n",
       "    }\n",
       "\n",
       "    .dataframe tbody tr th {\n",
       "        vertical-align: top;\n",
       "    }\n",
       "\n",
       "    .dataframe thead th {\n",
       "        text-align: right;\n",
       "    }\n",
       "</style>\n",
       "<table border=\"1\" class=\"dataframe\">\n",
       "  <thead>\n",
       "    <tr style=\"text-align: right;\">\n",
       "      <th></th>\n",
       "      <th>guestID</th>\n",
       "      <th>smoking</th>\n",
       "      <th>drinker</th>\n",
       "      <th>dress_preference</th>\n",
       "      <th>company</th>\n",
       "      <th>transport</th>\n",
       "      <th>marital_status</th>\n",
       "      <th>birth_year</th>\n",
       "      <th>interest</th>\n",
       "      <th>religion</th>\n",
       "      <th>activity</th>\n",
       "      <th>color</th>\n",
       "      <th>weight</th>\n",
       "      <th>budget</th>\n",
       "      <th>height</th>\n",
       "      <th>cuisine</th>\n",
       "      <th>payment</th>\n",
       "      <th>age</th>\n",
       "    </tr>\n",
       "  </thead>\n",
       "  <tbody>\n",
       "    <tr>\n",
       "      <th>0</th>\n",
       "      <td>U1001</td>\n",
       "      <td>false</td>\n",
       "      <td>abstemious</td>\n",
       "      <td>informal</td>\n",
       "      <td>family</td>\n",
       "      <td>on foot</td>\n",
       "      <td>single</td>\n",
       "      <td>1989</td>\n",
       "      <td>variety</td>\n",
       "      <td>none</td>\n",
       "      <td>student</td>\n",
       "      <td>black</td>\n",
       "      <td>69</td>\n",
       "      <td>medium</td>\n",
       "      <td>1.77</td>\n",
       "      <td>American</td>\n",
       "      <td>cash</td>\n",
       "      <td>32</td>\n",
       "    </tr>\n",
       "    <tr>\n",
       "      <th>1</th>\n",
       "      <td>U1002</td>\n",
       "      <td>false</td>\n",
       "      <td>abstemious</td>\n",
       "      <td>informal</td>\n",
       "      <td>family</td>\n",
       "      <td>public</td>\n",
       "      <td>single</td>\n",
       "      <td>1990</td>\n",
       "      <td>technology</td>\n",
       "      <td>Catholic</td>\n",
       "      <td>student</td>\n",
       "      <td>red</td>\n",
       "      <td>40</td>\n",
       "      <td>low</td>\n",
       "      <td>1.87</td>\n",
       "      <td>Mexican</td>\n",
       "      <td>cash</td>\n",
       "      <td>31</td>\n",
       "    </tr>\n",
       "    <tr>\n",
       "      <th>2</th>\n",
       "      <td>U1003</td>\n",
       "      <td>false</td>\n",
       "      <td>social drinker</td>\n",
       "      <td>formal</td>\n",
       "      <td>family</td>\n",
       "      <td>public</td>\n",
       "      <td>single</td>\n",
       "      <td>1989</td>\n",
       "      <td>none</td>\n",
       "      <td>Catholic</td>\n",
       "      <td>student</td>\n",
       "      <td>blue</td>\n",
       "      <td>60</td>\n",
       "      <td>low</td>\n",
       "      <td>1.69</td>\n",
       "      <td>Mexican</td>\n",
       "      <td>cash</td>\n",
       "      <td>32</td>\n",
       "    </tr>\n",
       "    <tr>\n",
       "      <th>3</th>\n",
       "      <td>U1004</td>\n",
       "      <td>false</td>\n",
       "      <td>abstemious</td>\n",
       "      <td>informal</td>\n",
       "      <td>family</td>\n",
       "      <td>public</td>\n",
       "      <td>single</td>\n",
       "      <td>1940</td>\n",
       "      <td>variety</td>\n",
       "      <td>none</td>\n",
       "      <td>professional</td>\n",
       "      <td>green</td>\n",
       "      <td>44</td>\n",
       "      <td>medium</td>\n",
       "      <td>1.53</td>\n",
       "      <td>Bakery</td>\n",
       "      <td>cash</td>\n",
       "      <td>81</td>\n",
       "    </tr>\n",
       "    <tr>\n",
       "      <th>4</th>\n",
       "      <td>U1004</td>\n",
       "      <td>false</td>\n",
       "      <td>abstemious</td>\n",
       "      <td>informal</td>\n",
       "      <td>family</td>\n",
       "      <td>public</td>\n",
       "      <td>single</td>\n",
       "      <td>1940</td>\n",
       "      <td>variety</td>\n",
       "      <td>none</td>\n",
       "      <td>professional</td>\n",
       "      <td>green</td>\n",
       "      <td>44</td>\n",
       "      <td>medium</td>\n",
       "      <td>1.53</td>\n",
       "      <td>Bakery</td>\n",
       "      <td>bank_debit_cards</td>\n",
       "      <td>81</td>\n",
       "    </tr>\n",
       "    <tr>\n",
       "      <th>...</th>\n",
       "      <td>...</td>\n",
       "      <td>...</td>\n",
       "      <td>...</td>\n",
       "      <td>...</td>\n",
       "      <td>...</td>\n",
       "      <td>...</td>\n",
       "      <td>...</td>\n",
       "      <td>...</td>\n",
       "      <td>...</td>\n",
       "      <td>...</td>\n",
       "      <td>...</td>\n",
       "      <td>...</td>\n",
       "      <td>...</td>\n",
       "      <td>...</td>\n",
       "      <td>...</td>\n",
       "      <td>...</td>\n",
       "      <td>...</td>\n",
       "      <td>...</td>\n",
       "    </tr>\n",
       "    <tr>\n",
       "      <th>294</th>\n",
       "      <td>U1127</td>\n",
       "      <td>false</td>\n",
       "      <td>abstemious</td>\n",
       "      <td>no preference</td>\n",
       "      <td>solitary</td>\n",
       "      <td>public</td>\n",
       "      <td>single</td>\n",
       "      <td>1992</td>\n",
       "      <td>variety</td>\n",
       "      <td>Catholic</td>\n",
       "      <td>student</td>\n",
       "      <td>black</td>\n",
       "      <td>65</td>\n",
       "      <td>low</td>\n",
       "      <td>1.76</td>\n",
       "      <td>Mexican</td>\n",
       "      <td>cash</td>\n",
       "      <td>29</td>\n",
       "    </tr>\n",
       "    <tr>\n",
       "      <th>295</th>\n",
       "      <td>U1128</td>\n",
       "      <td>false</td>\n",
       "      <td>casual drinker</td>\n",
       "      <td>no preference</td>\n",
       "      <td>friends</td>\n",
       "      <td>public</td>\n",
       "      <td>single</td>\n",
       "      <td>1986</td>\n",
       "      <td>variety</td>\n",
       "      <td>Catholic</td>\n",
       "      <td>student</td>\n",
       "      <td>red</td>\n",
       "      <td>66</td>\n",
       "      <td>low</td>\n",
       "      <td>1.72</td>\n",
       "      <td>Cafeteria</td>\n",
       "      <td>cash</td>\n",
       "      <td>35</td>\n",
       "    </tr>\n",
       "    <tr>\n",
       "      <th>296</th>\n",
       "      <td>U1128</td>\n",
       "      <td>false</td>\n",
       "      <td>casual drinker</td>\n",
       "      <td>no preference</td>\n",
       "      <td>friends</td>\n",
       "      <td>public</td>\n",
       "      <td>single</td>\n",
       "      <td>1986</td>\n",
       "      <td>variety</td>\n",
       "      <td>Catholic</td>\n",
       "      <td>student</td>\n",
       "      <td>red</td>\n",
       "      <td>66</td>\n",
       "      <td>low</td>\n",
       "      <td>1.72</td>\n",
       "      <td>Hot_Dogs</td>\n",
       "      <td>cash</td>\n",
       "      <td>35</td>\n",
       "    </tr>\n",
       "    <tr>\n",
       "      <th>297</th>\n",
       "      <td>U1128</td>\n",
       "      <td>false</td>\n",
       "      <td>casual drinker</td>\n",
       "      <td>no preference</td>\n",
       "      <td>friends</td>\n",
       "      <td>public</td>\n",
       "      <td>single</td>\n",
       "      <td>1986</td>\n",
       "      <td>variety</td>\n",
       "      <td>Catholic</td>\n",
       "      <td>student</td>\n",
       "      <td>red</td>\n",
       "      <td>66</td>\n",
       "      <td>low</td>\n",
       "      <td>1.72</td>\n",
       "      <td>Pizzeria</td>\n",
       "      <td>cash</td>\n",
       "      <td>35</td>\n",
       "    </tr>\n",
       "    <tr>\n",
       "      <th>298</th>\n",
       "      <td>U1128</td>\n",
       "      <td>false</td>\n",
       "      <td>casual drinker</td>\n",
       "      <td>no preference</td>\n",
       "      <td>friends</td>\n",
       "      <td>public</td>\n",
       "      <td>single</td>\n",
       "      <td>1986</td>\n",
       "      <td>variety</td>\n",
       "      <td>Catholic</td>\n",
       "      <td>student</td>\n",
       "      <td>red</td>\n",
       "      <td>66</td>\n",
       "      <td>low</td>\n",
       "      <td>1.72</td>\n",
       "      <td>Mexican</td>\n",
       "      <td>cash</td>\n",
       "      <td>35</td>\n",
       "    </tr>\n",
       "  </tbody>\n",
       "</table>\n",
       "<p>284 rows × 18 columns</p>\n",
       "</div>"
      ],
      "text/plain": [
       "    guestID smoking         drinker dress_preference   company transport  \\\n",
       "0     U1001   false      abstemious         informal    family   on foot   \n",
       "1     U1002   false      abstemious         informal    family    public   \n",
       "2     U1003   false  social drinker           formal    family    public   \n",
       "3     U1004   false      abstemious         informal    family    public   \n",
       "4     U1004   false      abstemious         informal    family    public   \n",
       "..      ...     ...             ...              ...       ...       ...   \n",
       "294   U1127   false      abstemious    no preference  solitary    public   \n",
       "295   U1128   false  casual drinker    no preference   friends    public   \n",
       "296   U1128   false  casual drinker    no preference   friends    public   \n",
       "297   U1128   false  casual drinker    no preference   friends    public   \n",
       "298   U1128   false  casual drinker    no preference   friends    public   \n",
       "\n",
       "    marital_status  birth_year    interest  religion      activity  color  \\\n",
       "0           single        1989     variety      none       student  black   \n",
       "1           single        1990  technology  Catholic       student    red   \n",
       "2           single        1989        none  Catholic       student   blue   \n",
       "3           single        1940     variety      none  professional  green   \n",
       "4           single        1940     variety      none  professional  green   \n",
       "..             ...         ...         ...       ...           ...    ...   \n",
       "294         single        1992     variety  Catholic       student  black   \n",
       "295         single        1986     variety  Catholic       student    red   \n",
       "296         single        1986     variety  Catholic       student    red   \n",
       "297         single        1986     variety  Catholic       student    red   \n",
       "298         single        1986     variety  Catholic       student    red   \n",
       "\n",
       "     weight  budget  height    cuisine           payment  age  \n",
       "0        69  medium    1.77   American              cash   32  \n",
       "1        40     low    1.87    Mexican              cash   31  \n",
       "2        60     low    1.69    Mexican              cash   32  \n",
       "3        44  medium    1.53     Bakery              cash   81  \n",
       "4        44  medium    1.53     Bakery  bank_debit_cards   81  \n",
       "..      ...     ...     ...        ...               ...  ...  \n",
       "294      65     low    1.76    Mexican              cash   29  \n",
       "295      66     low    1.72  Cafeteria              cash   35  \n",
       "296      66     low    1.72   Hot_Dogs              cash   35  \n",
       "297      66     low    1.72   Pizzeria              cash   35  \n",
       "298      66     low    1.72    Mexican              cash   35  \n",
       "\n",
       "[284 rows x 18 columns]"
      ]
     },
     "execution_count": 5,
     "metadata": {},
     "output_type": "execute_result"
    }
   ],
   "source": [
    "guests.drop(guests.index[guests['dress_preference'] == '?'], inplace = True)\n",
    "guests.drop(guests.index[guests['company'] == '?'], inplace = True)\n",
    "guests.drop(guests.index[guests['transport'] == '?'], inplace = True)\n",
    "guests.drop(guests.index[guests['marital_status'] == '?'], inplace = True)\n",
    "guests.drop(guests.index[guests['activity'] == '?'], inplace = True)\n",
    "guests.drop(guests.index[guests['budget'] == '?'], inplace = True)\n",
    "guests['age'] = 2021-guests['birth_year']\n",
    "guests"
   ]
  },
  {
   "cell_type": "markdown",
   "metadata": {},
   "source": [
    "## Merge stars with guests"
   ]
  },
  {
   "cell_type": "code",
   "execution_count": 6,
   "metadata": {},
   "outputs": [
    {
     "data": {
      "text/html": [
       "<div>\n",
       "<style scoped>\n",
       "    .dataframe tbody tr th:only-of-type {\n",
       "        vertical-align: middle;\n",
       "    }\n",
       "\n",
       "    .dataframe tbody tr th {\n",
       "        vertical-align: top;\n",
       "    }\n",
       "\n",
       "    .dataframe thead th {\n",
       "        text-align: right;\n",
       "    }\n",
       "</style>\n",
       "<table border=\"1\" class=\"dataframe\">\n",
       "  <thead>\n",
       "    <tr style=\"text-align: right;\">\n",
       "      <th></th>\n",
       "      <th>guestID</th>\n",
       "      <th>smoking</th>\n",
       "      <th>drinker</th>\n",
       "      <th>dress_preference</th>\n",
       "      <th>company</th>\n",
       "      <th>transport</th>\n",
       "      <th>marital_status</th>\n",
       "      <th>birth_year</th>\n",
       "      <th>interest</th>\n",
       "      <th>religion</th>\n",
       "      <th>...</th>\n",
       "      <th>color</th>\n",
       "      <th>weight</th>\n",
       "      <th>budget</th>\n",
       "      <th>height</th>\n",
       "      <th>cuisine</th>\n",
       "      <th>payment</th>\n",
       "      <th>age</th>\n",
       "      <th>restaurantID</th>\n",
       "      <th>stars</th>\n",
       "      <th>bmi</th>\n",
       "    </tr>\n",
       "  </thead>\n",
       "  <tbody>\n",
       "    <tr>\n",
       "      <th>0</th>\n",
       "      <td>U1001</td>\n",
       "      <td>false</td>\n",
       "      <td>abstemious</td>\n",
       "      <td>informal</td>\n",
       "      <td>family</td>\n",
       "      <td>on foot</td>\n",
       "      <td>single</td>\n",
       "      <td>1989</td>\n",
       "      <td>variety</td>\n",
       "      <td>none</td>\n",
       "      <td>...</td>\n",
       "      <td>black</td>\n",
       "      <td>69</td>\n",
       "      <td>medium</td>\n",
       "      <td>1.77</td>\n",
       "      <td>American</td>\n",
       "      <td>cash</td>\n",
       "      <td>32</td>\n",
       "      <td>132830</td>\n",
       "      <td>1</td>\n",
       "      <td>22.024323</td>\n",
       "    </tr>\n",
       "    <tr>\n",
       "      <th>1</th>\n",
       "      <td>U1001</td>\n",
       "      <td>false</td>\n",
       "      <td>abstemious</td>\n",
       "      <td>informal</td>\n",
       "      <td>family</td>\n",
       "      <td>on foot</td>\n",
       "      <td>single</td>\n",
       "      <td>1989</td>\n",
       "      <td>variety</td>\n",
       "      <td>none</td>\n",
       "      <td>...</td>\n",
       "      <td>black</td>\n",
       "      <td>69</td>\n",
       "      <td>medium</td>\n",
       "      <td>1.77</td>\n",
       "      <td>American</td>\n",
       "      <td>cash</td>\n",
       "      <td>32</td>\n",
       "      <td>132825</td>\n",
       "      <td>2</td>\n",
       "      <td>22.024323</td>\n",
       "    </tr>\n",
       "    <tr>\n",
       "      <th>2</th>\n",
       "      <td>U1001</td>\n",
       "      <td>false</td>\n",
       "      <td>abstemious</td>\n",
       "      <td>informal</td>\n",
       "      <td>family</td>\n",
       "      <td>on foot</td>\n",
       "      <td>single</td>\n",
       "      <td>1989</td>\n",
       "      <td>variety</td>\n",
       "      <td>none</td>\n",
       "      <td>...</td>\n",
       "      <td>black</td>\n",
       "      <td>69</td>\n",
       "      <td>medium</td>\n",
       "      <td>1.77</td>\n",
       "      <td>American</td>\n",
       "      <td>cash</td>\n",
       "      <td>32</td>\n",
       "      <td>135085</td>\n",
       "      <td>0</td>\n",
       "      <td>22.024323</td>\n",
       "    </tr>\n",
       "    <tr>\n",
       "      <th>3</th>\n",
       "      <td>U1001</td>\n",
       "      <td>false</td>\n",
       "      <td>abstemious</td>\n",
       "      <td>informal</td>\n",
       "      <td>family</td>\n",
       "      <td>on foot</td>\n",
       "      <td>single</td>\n",
       "      <td>1989</td>\n",
       "      <td>variety</td>\n",
       "      <td>none</td>\n",
       "      <td>...</td>\n",
       "      <td>black</td>\n",
       "      <td>69</td>\n",
       "      <td>medium</td>\n",
       "      <td>1.77</td>\n",
       "      <td>American</td>\n",
       "      <td>cash</td>\n",
       "      <td>32</td>\n",
       "      <td>135040</td>\n",
       "      <td>1</td>\n",
       "      <td>22.024323</td>\n",
       "    </tr>\n",
       "    <tr>\n",
       "      <th>4</th>\n",
       "      <td>U1001</td>\n",
       "      <td>false</td>\n",
       "      <td>abstemious</td>\n",
       "      <td>informal</td>\n",
       "      <td>family</td>\n",
       "      <td>on foot</td>\n",
       "      <td>single</td>\n",
       "      <td>1989</td>\n",
       "      <td>variety</td>\n",
       "      <td>none</td>\n",
       "      <td>...</td>\n",
       "      <td>black</td>\n",
       "      <td>69</td>\n",
       "      <td>medium</td>\n",
       "      <td>1.77</td>\n",
       "      <td>American</td>\n",
       "      <td>cash</td>\n",
       "      <td>32</td>\n",
       "      <td>135039</td>\n",
       "      <td>1</td>\n",
       "      <td>22.024323</td>\n",
       "    </tr>\n",
       "    <tr>\n",
       "      <th>...</th>\n",
       "      <td>...</td>\n",
       "      <td>...</td>\n",
       "      <td>...</td>\n",
       "      <td>...</td>\n",
       "      <td>...</td>\n",
       "      <td>...</td>\n",
       "      <td>...</td>\n",
       "      <td>...</td>\n",
       "      <td>...</td>\n",
       "      <td>...</td>\n",
       "      <td>...</td>\n",
       "      <td>...</td>\n",
       "      <td>...</td>\n",
       "      <td>...</td>\n",
       "      <td>...</td>\n",
       "      <td>...</td>\n",
       "      <td>...</td>\n",
       "      <td>...</td>\n",
       "      <td>...</td>\n",
       "      <td>...</td>\n",
       "      <td>...</td>\n",
       "    </tr>\n",
       "    <tr>\n",
       "      <th>2461</th>\n",
       "      <td>U1128</td>\n",
       "      <td>false</td>\n",
       "      <td>casual drinker</td>\n",
       "      <td>no preference</td>\n",
       "      <td>friends</td>\n",
       "      <td>public</td>\n",
       "      <td>single</td>\n",
       "      <td>1986</td>\n",
       "      <td>variety</td>\n",
       "      <td>Catholic</td>\n",
       "      <td>...</td>\n",
       "      <td>red</td>\n",
       "      <td>66</td>\n",
       "      <td>low</td>\n",
       "      <td>1.72</td>\n",
       "      <td>Mexican</td>\n",
       "      <td>cash</td>\n",
       "      <td>35</td>\n",
       "      <td>135064</td>\n",
       "      <td>0</td>\n",
       "      <td>22.309356</td>\n",
       "    </tr>\n",
       "    <tr>\n",
       "      <th>2462</th>\n",
       "      <td>U1128</td>\n",
       "      <td>false</td>\n",
       "      <td>casual drinker</td>\n",
       "      <td>no preference</td>\n",
       "      <td>friends</td>\n",
       "      <td>public</td>\n",
       "      <td>single</td>\n",
       "      <td>1986</td>\n",
       "      <td>variety</td>\n",
       "      <td>Catholic</td>\n",
       "      <td>...</td>\n",
       "      <td>red</td>\n",
       "      <td>66</td>\n",
       "      <td>low</td>\n",
       "      <td>1.72</td>\n",
       "      <td>Mexican</td>\n",
       "      <td>cash</td>\n",
       "      <td>35</td>\n",
       "      <td>132921</td>\n",
       "      <td>0</td>\n",
       "      <td>22.309356</td>\n",
       "    </tr>\n",
       "    <tr>\n",
       "      <th>2463</th>\n",
       "      <td>U1128</td>\n",
       "      <td>false</td>\n",
       "      <td>casual drinker</td>\n",
       "      <td>no preference</td>\n",
       "      <td>friends</td>\n",
       "      <td>public</td>\n",
       "      <td>single</td>\n",
       "      <td>1986</td>\n",
       "      <td>variety</td>\n",
       "      <td>Catholic</td>\n",
       "      <td>...</td>\n",
       "      <td>red</td>\n",
       "      <td>66</td>\n",
       "      <td>low</td>\n",
       "      <td>1.72</td>\n",
       "      <td>Mexican</td>\n",
       "      <td>cash</td>\n",
       "      <td>35</td>\n",
       "      <td>135060</td>\n",
       "      <td>0</td>\n",
       "      <td>22.309356</td>\n",
       "    </tr>\n",
       "    <tr>\n",
       "      <th>2464</th>\n",
       "      <td>U1128</td>\n",
       "      <td>false</td>\n",
       "      <td>casual drinker</td>\n",
       "      <td>no preference</td>\n",
       "      <td>friends</td>\n",
       "      <td>public</td>\n",
       "      <td>single</td>\n",
       "      <td>1986</td>\n",
       "      <td>variety</td>\n",
       "      <td>Catholic</td>\n",
       "      <td>...</td>\n",
       "      <td>red</td>\n",
       "      <td>66</td>\n",
       "      <td>low</td>\n",
       "      <td>1.72</td>\n",
       "      <td>Mexican</td>\n",
       "      <td>cash</td>\n",
       "      <td>35</td>\n",
       "      <td>132954</td>\n",
       "      <td>0</td>\n",
       "      <td>22.309356</td>\n",
       "    </tr>\n",
       "    <tr>\n",
       "      <th>2465</th>\n",
       "      <td>U1128</td>\n",
       "      <td>false</td>\n",
       "      <td>casual drinker</td>\n",
       "      <td>no preference</td>\n",
       "      <td>friends</td>\n",
       "      <td>public</td>\n",
       "      <td>single</td>\n",
       "      <td>1986</td>\n",
       "      <td>variety</td>\n",
       "      <td>Catholic</td>\n",
       "      <td>...</td>\n",
       "      <td>red</td>\n",
       "      <td>66</td>\n",
       "      <td>low</td>\n",
       "      <td>1.72</td>\n",
       "      <td>Mexican</td>\n",
       "      <td>cash</td>\n",
       "      <td>35</td>\n",
       "      <td>132951</td>\n",
       "      <td>0</td>\n",
       "      <td>22.309356</td>\n",
       "    </tr>\n",
       "  </tbody>\n",
       "</table>\n",
       "<p>2466 rows × 21 columns</p>\n",
       "</div>"
      ],
      "text/plain": [
       "     guestID smoking         drinker dress_preference  company transport  \\\n",
       "0      U1001   false      abstemious         informal   family   on foot   \n",
       "1      U1001   false      abstemious         informal   family   on foot   \n",
       "2      U1001   false      abstemious         informal   family   on foot   \n",
       "3      U1001   false      abstemious         informal   family   on foot   \n",
       "4      U1001   false      abstemious         informal   family   on foot   \n",
       "...      ...     ...             ...              ...      ...       ...   \n",
       "2461   U1128   false  casual drinker    no preference  friends    public   \n",
       "2462   U1128   false  casual drinker    no preference  friends    public   \n",
       "2463   U1128   false  casual drinker    no preference  friends    public   \n",
       "2464   U1128   false  casual drinker    no preference  friends    public   \n",
       "2465   U1128   false  casual drinker    no preference  friends    public   \n",
       "\n",
       "     marital_status  birth_year interest  religion  ...  color weight  budget  \\\n",
       "0            single        1989  variety      none  ...  black     69  medium   \n",
       "1            single        1989  variety      none  ...  black     69  medium   \n",
       "2            single        1989  variety      none  ...  black     69  medium   \n",
       "3            single        1989  variety      none  ...  black     69  medium   \n",
       "4            single        1989  variety      none  ...  black     69  medium   \n",
       "...             ...         ...      ...       ...  ...    ...    ...     ...   \n",
       "2461         single        1986  variety  Catholic  ...    red     66     low   \n",
       "2462         single        1986  variety  Catholic  ...    red     66     low   \n",
       "2463         single        1986  variety  Catholic  ...    red     66     low   \n",
       "2464         single        1986  variety  Catholic  ...    red     66     low   \n",
       "2465         single        1986  variety  Catholic  ...    red     66     low   \n",
       "\n",
       "     height   cuisine payment age  restaurantID  stars        bmi  \n",
       "0      1.77  American    cash  32        132830      1  22.024323  \n",
       "1      1.77  American    cash  32        132825      2  22.024323  \n",
       "2      1.77  American    cash  32        135085      0  22.024323  \n",
       "3      1.77  American    cash  32        135040      1  22.024323  \n",
       "4      1.77  American    cash  32        135039      1  22.024323  \n",
       "...     ...       ...     ...  ..           ...    ...        ...  \n",
       "2461   1.72   Mexican    cash  35        135064      0  22.309356  \n",
       "2462   1.72   Mexican    cash  35        132921      0  22.309356  \n",
       "2463   1.72   Mexican    cash  35        135060      0  22.309356  \n",
       "2464   1.72   Mexican    cash  35        132954      0  22.309356  \n",
       "2465   1.72   Mexican    cash  35        132951      0  22.309356  \n",
       "\n",
       "[2466 rows x 21 columns]"
      ]
     },
     "execution_count": 6,
     "metadata": {},
     "output_type": "execute_result"
    }
   ],
   "source": [
    "stars_guests = pd.merge(guests, stars, on='guestID', how='inner')\n",
    "stars_guests.drop( 'Unnamed: 0', axis = 1, inplace = True)\n",
    "stars_guests['bmi'] = stars_guests['weight']/(stars_guests['height'])**2\n",
    "stars_guests"
   ]
  },
  {
   "cell_type": "markdown",
   "metadata": {},
   "source": [
    "## Activity:  unemployment -> 0 stars, students->  1 or 2 stars, professional -> 2 stars"
   ]
  },
  {
   "cell_type": "code",
   "execution_count": 7,
   "metadata": {},
   "outputs": [
    {
     "data": {
      "text/plain": [
       "stars  guestID\n",
       "0      U1073      11\n",
       "dtype: int64"
      ]
     },
     "execution_count": 7,
     "metadata": {},
     "output_type": "execute_result"
    }
   ],
   "source": [
    "df_unemployment = stars_guests[stars_guests['activity']=='unemployed' ]\n",
    "df_unemployment[['stars', 'guestID']].value_counts()"
   ]
  },
  {
   "cell_type": "code",
   "execution_count": 8,
   "metadata": {
    "scrolled": true
   },
   "outputs": [
    {
     "data": {
      "text/plain": [
       "stars\n",
       "0        279\n",
       "1        863\n",
       "2        920\n",
       "dtype: int64"
      ]
     },
     "execution_count": 8,
     "metadata": {},
     "output_type": "execute_result"
    }
   ],
   "source": [
    "df_student = stars_guests[stars_guests['activity']=='student' ]\n",
    "df_student[['stars']].value_counts(sort =False)"
   ]
  },
  {
   "cell_type": "code",
   "execution_count": 9,
   "metadata": {},
   "outputs": [
    {
     "data": {
      "text/plain": [
       "0.648854961832061"
      ]
     },
     "execution_count": 9,
     "metadata": {},
     "output_type": "execute_result"
    }
   ],
   "source": [
    "255/(41+97+255)"
   ]
  },
  {
   "cell_type": "code",
   "execution_count": 10,
   "metadata": {},
   "outputs": [
    {
     "data": {
      "text/plain": [
       "stars\n",
       "0         41\n",
       "1         97\n",
       "2        255\n",
       "dtype: int64"
      ]
     },
     "execution_count": 10,
     "metadata": {},
     "output_type": "execute_result"
    }
   ],
   "source": [
    "df_pro = stars_guests[stars_guests['activity']=='professional' ]\n",
    "df_pro[['stars']].value_counts(sort =False)"
   ]
  },
  {
   "cell_type": "markdown",
   "metadata": {},
   "source": [
    "## Religion:"
   ]
  },
  {
   "cell_type": "code",
   "execution_count": 11,
   "metadata": {},
   "outputs": [
    {
     "data": {
      "text/plain": [
       "stars\n",
       "0         36\n",
       "1         85\n",
       "2        188\n",
       "dtype: int64"
      ]
     },
     "execution_count": 11,
     "metadata": {},
     "output_type": "execute_result"
    }
   ],
   "source": [
    "df = stars_guests[stars_guests['religion']=='none' ]\n",
    "df[['stars']].value_counts(sort =False)"
   ]
  },
  {
   "cell_type": "code",
   "execution_count": 12,
   "metadata": {},
   "outputs": [
    {
     "data": {
      "text/plain": [
       "stars\n",
       "0        267\n",
       "1        832\n",
       "2        952\n",
       "dtype: int64"
      ]
     },
     "execution_count": 12,
     "metadata": {},
     "output_type": "execute_result"
    }
   ],
   "source": [
    "df = stars_guests[stars_guests['religion']=='Catholic' ]\n",
    "df[['stars']].value_counts(sort =False)"
   ]
  },
  {
   "cell_type": "code",
   "execution_count": 13,
   "metadata": {},
   "outputs": [
    {
     "data": {
      "text/plain": [
       "stars\n",
       "0         2\n",
       "1        10\n",
       "2         4\n",
       "dtype: int64"
      ]
     },
     "execution_count": 13,
     "metadata": {},
     "output_type": "execute_result"
    }
   ],
   "source": [
    "df = stars_guests[stars_guests['religion']=='Jewish' ]\n",
    "df[['stars']].value_counts(sort =False)"
   ]
  },
  {
   "cell_type": "code",
   "execution_count": 14,
   "metadata": {},
   "outputs": [
    {
     "data": {
      "text/plain": [
       "stars\n",
       "0         8\n",
       "1        16\n",
       "2        16\n",
       "dtype: int64"
      ]
     },
     "execution_count": 14,
     "metadata": {},
     "output_type": "execute_result"
    }
   ],
   "source": [
    "df = stars_guests[stars_guests['religion']=='Mormon' ]\n",
    "df[['stars']].value_counts(sort =False)"
   ]
  },
  {
   "cell_type": "code",
   "execution_count": 15,
   "metadata": {},
   "outputs": [
    {
     "data": {
      "text/plain": [
       "stars\n",
       "0        18\n",
       "1        17\n",
       "2        15\n",
       "dtype: int64"
      ]
     },
     "execution_count": 15,
     "metadata": {},
     "output_type": "execute_result"
    }
   ],
   "source": [
    "df = stars_guests[stars_guests['religion']=='Christian' ]\n",
    "df[['stars']].value_counts(sort =False)"
   ]
  },
  {
   "cell_type": "markdown",
   "metadata": {},
   "source": [
    "## company"
   ]
  },
  {
   "cell_type": "code",
   "execution_count": 16,
   "metadata": {},
   "outputs": [
    {
     "data": {
      "text/plain": [
       "stars\n",
       "0        146\n",
       "1        280\n",
       "2        499\n",
       "dtype: int64"
      ]
     },
     "execution_count": 16,
     "metadata": {},
     "output_type": "execute_result"
    }
   ],
   "source": [
    "df = stars_guests[stars_guests['company']=='family' ]\n",
    "df[['stars']].value_counts(sort =False)"
   ]
  },
  {
   "cell_type": "code",
   "execution_count": 17,
   "metadata": {},
   "outputs": [
    {
     "data": {
      "text/plain": [
       "stars\n",
       "0         16\n",
       "1        442\n",
       "2        255\n",
       "dtype: int64"
      ]
     },
     "execution_count": 17,
     "metadata": {},
     "output_type": "execute_result"
    }
   ],
   "source": [
    "df = stars_guests[stars_guests['company']=='solitary' ]\n",
    "df[['stars']].value_counts(sort =False)"
   ]
  },
  {
   "cell_type": "code",
   "execution_count": 18,
   "metadata": {},
   "outputs": [
    {
     "data": {
      "text/plain": [
       "stars\n",
       "0        169\n",
       "1        238\n",
       "2        421\n",
       "dtype: int64"
      ]
     },
     "execution_count": 18,
     "metadata": {},
     "output_type": "execute_result"
    }
   ],
   "source": [
    "df = stars_guests[stars_guests['company']=='friends' ]\n",
    "df[['stars']].value_counts(sort =False)"
   ]
  },
  {
   "cell_type": "markdown",
   "metadata": {},
   "source": [
    "## marital_status"
   ]
  },
  {
   "cell_type": "code",
   "execution_count": 19,
   "metadata": {},
   "outputs": [
    {
     "data": {
      "text/plain": [
       "stars\n",
       "0         297\n",
       "1         926\n",
       "2        1093\n",
       "dtype: int64"
      ]
     },
     "execution_count": 19,
     "metadata": {},
     "output_type": "execute_result"
    }
   ],
   "source": [
    "df = stars_guests[stars_guests['marital_status']=='single' ]\n",
    "df[['stars']].value_counts(sort =False)"
   ]
  },
  {
   "cell_type": "code",
   "execution_count": 20,
   "metadata": {},
   "outputs": [
    {
     "data": {
      "text/plain": [
       "stars\n",
       "0        23\n",
       "1        24\n",
       "2        72\n",
       "dtype: int64"
      ]
     },
     "execution_count": 20,
     "metadata": {},
     "output_type": "execute_result"
    }
   ],
   "source": [
    "df = stars_guests[stars_guests['marital_status']=='married' ]\n",
    "df[['stars']].value_counts(sort =False)"
   ]
  },
  {
   "cell_type": "code",
   "execution_count": 21,
   "metadata": {},
   "outputs": [
    {
     "data": {
      "text/plain": [
       "stars\n",
       "0        11\n",
       "1        10\n",
       "2        10\n",
       "dtype: int64"
      ]
     },
     "execution_count": 21,
     "metadata": {},
     "output_type": "execute_result"
    }
   ],
   "source": [
    "df = stars_guests[stars_guests['marital_status']=='widow' ]\n",
    "df[['stars']].value_counts(sort =False)"
   ]
  },
  {
   "cell_type": "markdown",
   "metadata": {},
   "source": [
    "## Age"
   ]
  },
  {
   "cell_type": "code",
   "execution_count": 22,
   "metadata": {
    "scrolled": true
   },
   "outputs": [
    {
     "data": {
      "text/plain": [
       "stars\n",
       "0         5\n",
       "1         9\n",
       "2        26\n",
       "dtype: int64"
      ]
     },
     "execution_count": 22,
     "metadata": {},
     "output_type": "execute_result"
    }
   ],
   "source": [
    "df = stars_guests[stars_guests['age']<30 ] ## 1991 +\n",
    "df[['stars']].value_counts(sort=False)"
   ]
  },
  {
   "cell_type": "code",
   "execution_count": 23,
   "metadata": {},
   "outputs": [
    {
     "data": {
      "text/plain": [
       "stars\n",
       "0        239\n",
       "1        754\n",
       "2        612\n",
       "dtype: int64"
      ]
     },
     "execution_count": 23,
     "metadata": {},
     "output_type": "execute_result"
    }
   ],
   "source": [
    "df = stars_guests[stars_guests['age']>30]  ## 1971 -- 1991 \n",
    "df = df[df['age']<50 ]\n",
    "df[['stars']].value_counts(sort=False)"
   ]
  },
  {
   "cell_type": "code",
   "execution_count": 24,
   "metadata": {},
   "outputs": [
    {
     "data": {
      "text/plain": [
       "stars\n",
       "0         19\n",
       "1         35\n",
       "2        204\n",
       "dtype: int64"
      ]
     },
     "execution_count": 24,
     "metadata": {},
     "output_type": "execute_result"
    }
   ],
   "source": [
    "df = stars_guests[stars_guests['age']>50 ]  #1961\n",
    "df[['stars']].value_counts(sort=False)"
   ]
  },
  {
   "cell_type": "markdown",
   "metadata": {},
   "source": [
    "## BMI:"
   ]
  },
  {
   "cell_type": "code",
   "execution_count": 26,
   "metadata": {},
   "outputs": [
    {
     "data": {
      "text/plain": [
       "stars\n",
       "0         59\n",
       "1        115\n",
       "2        175\n",
       "dtype: int64"
      ]
     },
     "execution_count": 26,
     "metadata": {},
     "output_type": "execute_result"
    }
   ],
   "source": [
    "df = stars_guests[stars_guests['bmi']<18.5 ]\n",
    "df[['stars']].value_counts(sort=False)"
   ]
  },
  {
   "cell_type": "code",
   "execution_count": 27,
   "metadata": {},
   "outputs": [
    {
     "data": {
      "text/plain": [
       "stars\n",
       "0        202\n",
       "1        711\n",
       "2        681\n",
       "dtype: int64"
      ]
     },
     "execution_count": 27,
     "metadata": {},
     "output_type": "execute_result"
    }
   ],
   "source": [
    "df = stars_guests[stars_guests['bmi']>18.5 ]\n",
    "df = df[df['bmi']<25 ]\n",
    "df[['stars']].value_counts(sort=False)"
   ]
  },
  {
   "cell_type": "code",
   "execution_count": 28,
   "metadata": {
    "scrolled": true
   },
   "outputs": [
    {
     "data": {
      "text/plain": [
       "stars\n",
       "0         28\n",
       "1        104\n",
       "2        293\n",
       "dtype: int64"
      ]
     },
     "execution_count": 28,
     "metadata": {},
     "output_type": "execute_result"
    }
   ],
   "source": [
    "df = stars_guests[stars_guests['bmi']>25]\n",
    "df = df[df['bmi']<=30]\n",
    "df[['stars']].value_counts(sort=False)"
   ]
  },
  {
   "cell_type": "code",
   "execution_count": 29,
   "metadata": {},
   "outputs": [
    {
     "data": {
      "text/plain": [
       "stars\n",
       "0        42\n",
       "1        30\n",
       "2        26\n",
       "dtype: int64"
      ]
     },
     "execution_count": 29,
     "metadata": {},
     "output_type": "execute_result"
    }
   ],
   "source": [
    "df = stars_guests[stars_guests['bmi']>30]\n",
    "df[['stars']].value_counts(sort=False)"
   ]
  },
  {
   "cell_type": "markdown",
   "metadata": {},
   "source": [
    "## Payment by cash"
   ]
  },
  {
   "cell_type": "code",
   "execution_count": 30,
   "metadata": {},
   "outputs": [
    {
     "data": {
      "text/plain": [
       "stars\n",
       "0        279\n",
       "1        639\n",
       "2        825\n",
       "dtype: int64"
      ]
     },
     "execution_count": 30,
     "metadata": {},
     "output_type": "execute_result"
    }
   ],
   "source": [
    "df = stars_guests[stars_guests['payment']=='cash']\n",
    "df[['stars']].value_counts(sort=False)"
   ]
  },
  {
   "cell_type": "code",
   "execution_count": 31,
   "metadata": {},
   "outputs": [
    {
     "data": {
      "text/plain": [
       "stars\n",
       "0         52\n",
       "1        321\n",
       "2        350\n",
       "dtype: int64"
      ]
     },
     "execution_count": 31,
     "metadata": {},
     "output_type": "execute_result"
    }
   ],
   "source": [
    "df = stars_guests[stars_guests['payment']!='cash']\n",
    "df[['stars']].value_counts(sort=False)"
   ]
  },
  {
   "cell_type": "code",
   "execution_count": null,
   "metadata": {},
   "outputs": [],
   "source": []
  }
 ],
 "metadata": {
  "kernelspec": {
   "display_name": "Python 3",
   "language": "python",
   "name": "python3"
  },
  "language_info": {
   "codemirror_mode": {
    "name": "ipython",
    "version": 3
   },
   "file_extension": ".py",
   "mimetype": "text/x-python",
   "name": "python",
   "nbconvert_exporter": "python",
   "pygments_lexer": "ipython3",
   "version": "3.8.5"
  }
 },
 "nbformat": 4,
 "nbformat_minor": 4
}
