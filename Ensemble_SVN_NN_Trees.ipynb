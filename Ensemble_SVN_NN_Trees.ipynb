{
 "cells": [
  {
   "cell_type": "code",
   "execution_count": 1,
   "metadata": {},
   "outputs": [],
   "source": [
    "import numpy as np\n",
    "import pandas as pd\n",
    "import torch\n",
    "import torchvision\n",
    "import matplotlib.pyplot as plt\n",
    "import torch.nn as nn\n",
    "\n",
    "from torch.optim import SGD\n",
    "from torch.nn.functional import cross_entropy\n",
    "\n",
    "\n",
    "import warnings\n",
    "warnings.filterwarnings('ignore')\n",
    "\n",
    "from sklearn.svm import SVC\n",
    "from typing import List, Tuple\n",
    "import matplotlib.pyplot as plt\n",
    "from copy import deepcopy, copy\n",
    "\n",
    "from sklearn.linear_model import LogisticRegression\n",
    "\n",
    "from sklearn import tree\n",
    "from sklearn.metrics import accuracy_score"
   ]
  },
  {
   "cell_type": "code",
   "execution_count": 2,
   "metadata": {},
   "outputs": [],
   "source": [
    "def split_data(data_x: np.ndarray, data_y: np.ndarray):\n",
    "    \n",
    "    ordering = np.arange(data_x.shape[0])\n",
    "    np.random.shuffle(ordering)\n",
    "    data_x = data_x[ordering]\n",
    "    data_y = data_y[ordering]\n",
    "    \n",
    "    valid_start = int(len(data_x) * 0.7)\n",
    "    test_start = int(len(data_x) * 0.9)\n",
    "    \n",
    "    train_set = (data_x[:valid_start], data_y[:valid_start])\n",
    "    valid_set = (data_x[valid_start:test_start], data_y[valid_start:test_start])\n",
    "    test_set = (data_x[test_start:], data_y[test_start:])\n",
    "    \n",
    "    return train_set, valid_set, test_set"
   ]
  },
  {
   "cell_type": "code",
   "execution_count": 3,
   "metadata": {},
   "outputs": [
    {
     "name": "stdout",
     "output_type": "stream",
     "text": [
      "(2055, 136)\n",
      "(587, 136)\n",
      "(294, 136)\n"
     ]
    }
   ],
   "source": [
    "data = pd.read_csv('data.csv')\n",
    "\n",
    "y = np.array(data['target'])\n",
    "x = np.array(data.drop(['target'], axis=1))\n",
    "train_set, valid_set, test_set = split_data(x,y)\n",
    "\n",
    "x_train = train_set[0]\n",
    "y_train = train_set[1]\n",
    "\n",
    "x_val = valid_set[0]\n",
    "y_val = valid_set[1]\n",
    "\n",
    "x_test = test_set[0]\n",
    "y_test = test_set[1]\n",
    "\n",
    "print(x_train.shape)\n",
    "print(x_val.shape)\n",
    "print(x_test.shape)"
   ]
  },
  {
   "cell_type": "markdown",
   "metadata": {},
   "source": [
    "## Neural network model"
   ]
  },
  {
   "cell_type": "code",
   "execution_count": 4,
   "metadata": {},
   "outputs": [],
   "source": [
    "input_dim = x_test.shape[1]\n",
    "output_dim = 3 \n",
    "\n",
    "class TheModelClass(nn.Module):\n",
    "    def __init__(self, input_dim, hidden_dim1,hidden_dim2, output_dim):\n",
    "        super(TheModelClass, self).__init__()\n",
    "        \n",
    "        self.fc1 = nn.Linear(input_dim, hidden_dim1)\n",
    "        self.fc2 = nn.Linear(hidden_dim1, hidden_dim2)        \n",
    "        self.fc3 = nn.Linear(hidden_dim2, output_dim)\n",
    "        self.dropout = nn.Dropout(0.9)\n",
    "    \n",
    "    def forward(self, x):   ## softmax, tanh, relu, sigmoid\n",
    "        x = torch.tanh(self.fc1(x)) \n",
    "        x = self.dropout(x)\n",
    "        x = torch.tanh(self.fc2(x))\n",
    "        x = self.dropout(x)\n",
    "        x = self.fc3(x)\n",
    "        return x"
   ]
  },
  {
   "cell_type": "markdown",
   "metadata": {},
   "source": [
    "# Bagging using decision tree, SVN and NN:"
   ]
  },
  {
   "cell_type": "code",
   "execution_count": 5,
   "metadata": {},
   "outputs": [],
   "source": [
    "def create_bootstrap_data():\n",
    "    bootstrap_ids = np.random.randint(0, len(x_train), size=len(x_train))\n",
    "    return x_train[bootstrap_ids,:], y_train[bootstrap_ids]"
   ]
  },
  {
   "cell_type": "code",
   "execution_count": 6,
   "metadata": {},
   "outputs": [],
   "source": [
    "def vote(test_data):\n",
    "    \n",
    "    output_DTC1 = model_DTC1.predict(test_data)\n",
    "    output_DTC2 = model_DTC2.predict(test_data)\n",
    "    output_DTC3 = model_DTC3.predict(test_data)\n",
    "    output_DTC4 = model_DTC4.predict(test_data)\n",
    "    output_DTC5 = model_DTC5.predict(test_data)\n",
    "    \n",
    "    output_SVN = model_SVC.predict(test_data)\n",
    "    output_LR = model_LR.predict(test_data)\n",
    "    \n",
    "    x_test = torch.from_numpy(test_data).float()\n",
    "    with torch.no_grad():\n",
    "        output_NN = model(x_test)  \n",
    "        output_NN = np.array(torch.argmax(output_NN, 1))\n",
    "    \n",
    "    \n",
    "    output = [output_DTC1,output_DTC2,output_DTC3,output_DTC4,output_DTC5]\n",
    "    for i in range(5):\n",
    "        output.append(output_NN)\n",
    "        output.append(output_SVN)\n",
    "    output = np.array(output)\n",
    "    \n",
    "    predicted = []\n",
    "    for i in range(len(test_data)):\n",
    "        classified = output[:, i]\n",
    "        counts = np.bincount(classified)\n",
    "        predicted.append(np.argmax(counts))\n",
    "    return predicted"
   ]
  },
  {
   "cell_type": "code",
   "execution_count": 7,
   "metadata": {},
   "outputs": [
    {
     "data": {
      "text/plain": [
       "<All keys matched successfully>"
      ]
     },
     "execution_count": 7,
     "metadata": {},
     "output_type": "execute_result"
    }
   ],
   "source": [
    "# Decision Tree\n",
    "bootstrap_set, bootstrap_labels = create_bootstrap_data()\n",
    "model_DTC1 = tree.DecisionTreeClassifier(max_depth=12, criterion='entropy', splitter='best')\n",
    "model_DTC1.fit(bootstrap_set, bootstrap_labels)\n",
    "\n",
    "bootstrap_set, bootstrap_labels = create_bootstrap_data()\n",
    "model_DTC2 = tree.DecisionTreeClassifier(max_depth=12, criterion='entropy', splitter='best')\n",
    "model_DTC2.fit(bootstrap_set, bootstrap_labels)\n",
    "\n",
    "bootstrap_set, bootstrap_labels = create_bootstrap_data()\n",
    "model_DTC3 = tree.DecisionTreeClassifier(max_depth=12, criterion='entropy', splitter='best')\n",
    "model_DTC3.fit(bootstrap_set, bootstrap_labels)\n",
    "    \n",
    "bootstrap_set, bootstrap_labels = create_bootstrap_data()\n",
    "model_DTC4 = tree.DecisionTreeClassifier(max_depth=12, criterion='entropy', splitter='best')\n",
    "model_DTC4.fit(bootstrap_set, bootstrap_labels)\n",
    "\n",
    "bootstrap_set, bootstrap_labels = create_bootstrap_data()\n",
    "model_DTC5 = tree.DecisionTreeClassifier(max_depth=12, criterion='entropy', splitter='best')\n",
    "model_DTC5.fit(bootstrap_set, bootstrap_labels)\n",
    "\n",
    "\n",
    "# Support vector machines\n",
    "bootstrap_set, bootstrap_labels = create_bootstrap_data()\n",
    "model_SVC = SVC(kernel ='rbf', C = 10, gamma =  0.1, coef0 = -10)\n",
    "model_SVC.fit(x_train, y_train)\n",
    "    \n",
    "#Logistic regression\n",
    "bootstrap_set, bootstrap_labels = create_bootstrap_data()\n",
    "model_LR = LogisticRegression(solver = 'newton-cg',C=10)\n",
    "model_LR.fit(bootstrap_set, bootstrap_labels)  \n",
    "   \n",
    "##Neural network model\n",
    "model = TheModelClass(input_dim, 40,40,output_dim)\n",
    "model.load_state_dict(torch.load(\"neural_network_model.h4\"))"
   ]
  },
  {
   "cell_type": "code",
   "execution_count": 8,
   "metadata": {},
   "outputs": [
    {
     "name": "stdout",
     "output_type": "stream",
     "text": [
      "Accuracy on validation set: 99.12 %\n",
      "Accuracy on validation set: 88.25 %\n",
      "Accuracy on test set: 93.54 %\n"
     ]
    }
   ],
   "source": [
    "output = vote(x_train)\n",
    "target = y_train\n",
    "accuracy = sum(output == target)/ len(target)\n",
    "print(\"Accuracy on validation set: {:.2f} %\".format(accuracy*100))\n",
    "\n",
    "output = vote(x_val)\n",
    "target = y_val\n",
    "accuracy = sum(output == target)/ len(target)\n",
    "print(\"Accuracy on validation set: {:.2f} %\".format(accuracy*100))\n",
    "\n",
    "output = vote(x_test)\n",
    "target = y_test\n",
    "accuracy = sum(output == target)/ len(target)\n",
    "print(\"Accuracy on test set: {:.2f} %\".format(accuracy*100))"
   ]
  },
  {
   "cell_type": "code",
   "execution_count": null,
   "metadata": {},
   "outputs": [],
   "source": []
  },
  {
   "cell_type": "code",
   "execution_count": null,
   "metadata": {},
   "outputs": [],
   "source": []
  }
 ],
 "metadata": {
  "kernelspec": {
   "display_name": "Python 3",
   "language": "python",
   "name": "python3"
  },
  "language_info": {
   "codemirror_mode": {
    "name": "ipython",
    "version": 3
   },
   "file_extension": ".py",
   "mimetype": "text/x-python",
   "name": "python",
   "nbconvert_exporter": "python",
   "pygments_lexer": "ipython3",
   "version": "3.8.5"
  }
 },
 "nbformat": 4,
 "nbformat_minor": 4
}
