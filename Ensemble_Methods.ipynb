{
 "cells": [
  {
   "cell_type": "code",
   "execution_count": 1,
   "metadata": {},
   "outputs": [],
   "source": [
    "import pandas as pd\n",
    "import numpy as np\n",
    "import warnings\n",
    "warnings.filterwarnings('ignore')\n",
    "\n",
    "import xgboost as xgb\n",
    "import pickle\n",
    "xgb.set_config(verbosity=1) #turn down info\n",
    "\n",
    "from sklearn import tree\n",
    "from sklearn.metrics import accuracy_score\n",
    "\n",
    "import matplotlib.pyplot as plt"
   ]
  },
  {
   "cell_type": "code",
   "execution_count": 2,
   "metadata": {},
   "outputs": [
    {
     "data": {
      "text/html": [
       "<div>\n",
       "<style scoped>\n",
       "    .dataframe tbody tr th:only-of-type {\n",
       "        vertical-align: middle;\n",
       "    }\n",
       "\n",
       "    .dataframe tbody tr th {\n",
       "        vertical-align: top;\n",
       "    }\n",
       "\n",
       "    .dataframe thead th {\n",
       "        text-align: right;\n",
       "    }\n",
       "</style>\n",
       "<table border=\"1\" class=\"dataframe\">\n",
       "  <thead>\n",
       "    <tr style=\"text-align: right;\">\n",
       "      <th></th>\n",
       "      <th>weight</th>\n",
       "      <th>height</th>\n",
       "      <th>closing</th>\n",
       "      <th>open_00_02</th>\n",
       "      <th>open_02_04</th>\n",
       "      <th>open_04_06</th>\n",
       "      <th>open_06_08</th>\n",
       "      <th>open_08_10</th>\n",
       "      <th>open_10_12</th>\n",
       "      <th>open_12_14</th>\n",
       "      <th>...</th>\n",
       "      <th>cuisine_y_Regional</th>\n",
       "      <th>cuisine_y_Seafood</th>\n",
       "      <th>cuisine_y_Vietnamese</th>\n",
       "      <th>parking_lot_none</th>\n",
       "      <th>parking_lot_public</th>\n",
       "      <th>parking_lot_valet parking</th>\n",
       "      <th>parking_lot_yes</th>\n",
       "      <th>smoking</th>\n",
       "      <th>age</th>\n",
       "      <th>target</th>\n",
       "    </tr>\n",
       "  </thead>\n",
       "  <tbody>\n",
       "    <tr>\n",
       "      <th>0</th>\n",
       "      <td>69</td>\n",
       "      <td>1.77</td>\n",
       "      <td>12</td>\n",
       "      <td>0</td>\n",
       "      <td>0</td>\n",
       "      <td>0</td>\n",
       "      <td>0</td>\n",
       "      <td>0</td>\n",
       "      <td>1</td>\n",
       "      <td>0</td>\n",
       "      <td>...</td>\n",
       "      <td>0</td>\n",
       "      <td>0</td>\n",
       "      <td>0</td>\n",
       "      <td>1</td>\n",
       "      <td>0</td>\n",
       "      <td>0</td>\n",
       "      <td>0</td>\n",
       "      <td>0</td>\n",
       "      <td>32</td>\n",
       "      <td>2</td>\n",
       "    </tr>\n",
       "    <tr>\n",
       "      <th>1</th>\n",
       "      <td>69</td>\n",
       "      <td>1.77</td>\n",
       "      <td>24</td>\n",
       "      <td>1</td>\n",
       "      <td>1</td>\n",
       "      <td>1</td>\n",
       "      <td>1</td>\n",
       "      <td>1</td>\n",
       "      <td>1</td>\n",
       "      <td>1</td>\n",
       "      <td>...</td>\n",
       "      <td>0</td>\n",
       "      <td>0</td>\n",
       "      <td>0</td>\n",
       "      <td>0</td>\n",
       "      <td>1</td>\n",
       "      <td>0</td>\n",
       "      <td>0</td>\n",
       "      <td>0</td>\n",
       "      <td>32</td>\n",
       "      <td>0</td>\n",
       "    </tr>\n",
       "    <tr>\n",
       "      <th>2</th>\n",
       "      <td>69</td>\n",
       "      <td>1.77</td>\n",
       "      <td>20</td>\n",
       "      <td>0</td>\n",
       "      <td>0</td>\n",
       "      <td>0</td>\n",
       "      <td>0</td>\n",
       "      <td>0</td>\n",
       "      <td>1</td>\n",
       "      <td>1</td>\n",
       "      <td>...</td>\n",
       "      <td>0</td>\n",
       "      <td>1</td>\n",
       "      <td>0</td>\n",
       "      <td>0</td>\n",
       "      <td>0</td>\n",
       "      <td>0</td>\n",
       "      <td>1</td>\n",
       "      <td>0</td>\n",
       "      <td>32</td>\n",
       "      <td>1</td>\n",
       "    </tr>\n",
       "    <tr>\n",
       "      <th>3</th>\n",
       "      <td>69</td>\n",
       "      <td>1.77</td>\n",
       "      <td>23</td>\n",
       "      <td>0</td>\n",
       "      <td>0</td>\n",
       "      <td>0</td>\n",
       "      <td>0</td>\n",
       "      <td>0</td>\n",
       "      <td>0</td>\n",
       "      <td>0</td>\n",
       "      <td>...</td>\n",
       "      <td>0</td>\n",
       "      <td>0</td>\n",
       "      <td>0</td>\n",
       "      <td>1</td>\n",
       "      <td>0</td>\n",
       "      <td>0</td>\n",
       "      <td>0</td>\n",
       "      <td>0</td>\n",
       "      <td>32</td>\n",
       "      <td>2</td>\n",
       "    </tr>\n",
       "    <tr>\n",
       "      <th>4</th>\n",
       "      <td>69</td>\n",
       "      <td>1.77</td>\n",
       "      <td>23</td>\n",
       "      <td>0</td>\n",
       "      <td>0</td>\n",
       "      <td>0</td>\n",
       "      <td>0</td>\n",
       "      <td>0</td>\n",
       "      <td>0</td>\n",
       "      <td>0</td>\n",
       "      <td>...</td>\n",
       "      <td>0</td>\n",
       "      <td>0</td>\n",
       "      <td>0</td>\n",
       "      <td>1</td>\n",
       "      <td>0</td>\n",
       "      <td>0</td>\n",
       "      <td>0</td>\n",
       "      <td>0</td>\n",
       "      <td>32</td>\n",
       "      <td>2</td>\n",
       "    </tr>\n",
       "  </tbody>\n",
       "</table>\n",
       "<p>5 rows × 135 columns</p>\n",
       "</div>"
      ],
      "text/plain": [
       "   weight  height  closing  open_00_02  open_02_04  open_04_06  open_06_08  \\\n",
       "0      69    1.77       12           0           0           0           0   \n",
       "1      69    1.77       24           1           1           1           1   \n",
       "2      69    1.77       20           0           0           0           0   \n",
       "3      69    1.77       23           0           0           0           0   \n",
       "4      69    1.77       23           0           0           0           0   \n",
       "\n",
       "   open_08_10  open_10_12  open_12_14  ...  cuisine_y_Regional  \\\n",
       "0           0           1           0  ...                   0   \n",
       "1           1           1           1  ...                   0   \n",
       "2           0           1           1  ...                   0   \n",
       "3           0           0           0  ...                   0   \n",
       "4           0           0           0  ...                   0   \n",
       "\n",
       "   cuisine_y_Seafood  cuisine_y_Vietnamese  parking_lot_none  \\\n",
       "0                  0                     0                 1   \n",
       "1                  0                     0                 0   \n",
       "2                  1                     0                 0   \n",
       "3                  0                     0                 1   \n",
       "4                  0                     0                 1   \n",
       "\n",
       "   parking_lot_public  parking_lot_valet parking  parking_lot_yes  smoking  \\\n",
       "0                   0                          0                0        0   \n",
       "1                   1                          0                0        0   \n",
       "2                   0                          0                1        0   \n",
       "3                   0                          0                0        0   \n",
       "4                   0                          0                0        0   \n",
       "\n",
       "   age  target  \n",
       "0   32       2  \n",
       "1   32       0  \n",
       "2   32       1  \n",
       "3   32       2  \n",
       "4   32       2  \n",
       "\n",
       "[5 rows x 135 columns]"
      ]
     },
     "execution_count": 2,
     "metadata": {},
     "output_type": "execute_result"
    }
   ],
   "source": [
    "data = pd.read_csv('data.csv')\n",
    "data.head(5)"
   ]
  },
  {
   "cell_type": "code",
   "execution_count": 3,
   "metadata": {},
   "outputs": [],
   "source": [
    "def split_data(data_x: np.ndarray, data_y: np.ndarray):\n",
    "    \n",
    "    ordering = np.arange(data_x.shape[0])\n",
    "    np.random.shuffle(ordering)\n",
    "    data_x = data_x[ordering]\n",
    "    data_y = data_y[ordering]\n",
    "    \n",
    "    valid_start = int(len(data_x) * 0.7)\n",
    "    test_start = int(len(data_x) * 0.9)\n",
    "    \n",
    "    train_set = (data_x[:valid_start], data_y[:valid_start])\n",
    "    valid_set = (data_x[valid_start:test_start], data_y[valid_start:test_start])\n",
    "    test_set = (data_x[test_start:], data_y[test_start:])\n",
    "    \n",
    "    return train_set, valid_set, test_set"
   ]
  },
  {
   "cell_type": "code",
   "execution_count": 4,
   "metadata": {},
   "outputs": [
    {
     "name": "stdout",
     "output_type": "stream",
     "text": [
      "(2055, 134)\n",
      "(587, 134)\n",
      "(294, 134)\n"
     ]
    }
   ],
   "source": [
    "y = np.array(data['target'])\n",
    "x = np.array(data.drop(['target'], axis=1))\n",
    "\n",
    "train_set, valid_set, test_set = split_data(x,y)\n",
    "\n",
    "x_train = train_set[0]\n",
    "y_train = train_set[1]\n",
    "\n",
    "x_val = valid_set[0]\n",
    "y_val = valid_set[1]\n",
    "\n",
    "x_test = test_set[0]\n",
    "y_test = test_set[1]\n",
    "\n",
    "print(x_train.shape)\n",
    "print(x_val.shape)\n",
    "print(x_test.shape)"
   ]
  },
  {
   "cell_type": "markdown",
   "metadata": {},
   "source": [
    "# Bagging on decision trees:"
   ]
  },
  {
   "cell_type": "code",
   "execution_count": 5,
   "metadata": {},
   "outputs": [],
   "source": [
    "def create_bootstrap_data():\n",
    "    bootstrap_ids = np.random.randint(0, len(x_train), size=len(x_train))\n",
    "    return x_train[bootstrap_ids,:], y_train[bootstrap_ids]"
   ]
  },
  {
   "cell_type": "code",
   "execution_count": 6,
   "metadata": {},
   "outputs": [],
   "source": [
    "def build_classifier(data_set, labels, max_depth):\n",
    "    random_state= np.random.randint(low=0, high=1e5)\n",
    "    decision_tree = tree.DecisionTreeClassifier(max_depth = max_depth, min_samples_split=3, min_samples_leaf=2, random_state=random_state)\n",
    "    decision_tree.fit(data_set, labels)\n",
    "    return decision_tree"
   ]
  },
  {
   "cell_type": "code",
   "execution_count": 7,
   "metadata": {},
   "outputs": [],
   "source": [
    "def build_classifiers(cases, max_depth):\n",
    "    classifiers = []\n",
    "    for case in range(cases):\n",
    "        bootstrap_set, bootstrap_labels = create_bootstrap_data()\n",
    "        classifier = build_classifier(bootstrap_set, bootstrap_labels, max_depth)\n",
    "        classifiers.append(classifier)\n",
    "    return classifiers"
   ]
  },
  {
   "cell_type": "code",
   "execution_count": 8,
   "metadata": {},
   "outputs": [],
   "source": [
    "def vote(classifiers, test_data):\n",
    "    output = []\n",
    "    for classifier in classifiers:\n",
    "        output.append(classifier.predict(test_data))\n",
    "    output = np.array(output)\n",
    "    predicted = []\n",
    "    for i in range(len(test_data)):\n",
    "        classified = output[:, i]\n",
    "        counts = np.bincount(classified)\n",
    "        predicted.append(np.argmax(counts))\n",
    "    return predicted"
   ]
  },
  {
   "cell_type": "markdown",
   "metadata": {},
   "source": [
    "## Grid search:"
   ]
  },
  {
   "cell_type": "code",
   "execution_count": 9,
   "metadata": {},
   "outputs": [
    {
     "name": "stdout",
     "output_type": "stream",
     "text": [
      "Accuracy on validation set: 81.26 using m=10 and depth = 6.0\n",
      "Accuracy on validation set: 83.48 using m=10 and depth = 7.0\n",
      "Accuracy on validation set: 83.99 using m=10 and depth = 8.0\n",
      "Accuracy on validation set: 87.22 using m=10 and depth = 9.0\n",
      "Accuracy on validation set: 86.71 using m=10 and depth = 10.0\n",
      "Accuracy on validation set: 87.39 using m=10 and depth = 11.0\n",
      "Accuracy on validation set: 88.93 using m=10 and depth = 12.0\n",
      "Accuracy on validation set: 88.42 using m=10 and depth = 13.0\n",
      "Accuracy on validation set: 89.61 using m=10 and depth = 14.0\n",
      "Accuracy on validation set: 89.44 using m=10 and depth = 15.0\n",
      "Accuracy on validation set: 89.78 using m=10 and depth = 16.0\n",
      "Accuracy on validation set: 88.59 using m=10 and depth = 17.0\n",
      "Accuracy on validation set: 89.78 using m=10 and depth = 18.0\n",
      "Accuracy on validation set: 78.88 using m=20 and depth = 6.0\n",
      "Accuracy on validation set: 83.82 using m=20 and depth = 7.0\n",
      "Accuracy on validation set: 85.18 using m=20 and depth = 8.0\n",
      "Accuracy on validation set: 87.05 using m=20 and depth = 9.0\n",
      "Accuracy on validation set: 88.42 using m=20 and depth = 10.0\n",
      "Accuracy on validation set: 89.27 using m=20 and depth = 11.0\n",
      "Accuracy on validation set: 88.42 using m=20 and depth = 12.0\n",
      "Accuracy on validation set: 90.46 using m=20 and depth = 13.0\n",
      "Accuracy on validation set: 89.78 using m=20 and depth = 14.0\n",
      "Accuracy on validation set: 90.97 using m=20 and depth = 15.0\n",
      "Accuracy on validation set: 89.61 using m=20 and depth = 16.0\n",
      "Accuracy on validation set: 90.97 using m=20 and depth = 17.0\n",
      "Accuracy on validation set: 90.29 using m=20 and depth = 18.0\n",
      "Accuracy on validation set: 77.34 using m=30 and depth = 6.0\n",
      "Accuracy on validation set: 83.13 using m=30 and depth = 7.0\n",
      "Accuracy on validation set: 85.01 using m=30 and depth = 8.0\n",
      "Accuracy on validation set: 87.39 using m=30 and depth = 9.0\n",
      "Accuracy on validation set: 87.39 using m=30 and depth = 10.0\n",
      "Accuracy on validation set: 88.93 using m=30 and depth = 11.0\n",
      "Accuracy on validation set: 90.46 using m=30 and depth = 12.0\n",
      "Accuracy on validation set: 89.10 using m=30 and depth = 13.0\n",
      "Accuracy on validation set: 89.78 using m=30 and depth = 14.0\n",
      "Accuracy on validation set: 90.46 using m=30 and depth = 15.0\n",
      "Accuracy on validation set: 90.29 using m=30 and depth = 16.0\n",
      "Accuracy on validation set: 90.12 using m=30 and depth = 17.0\n",
      "Accuracy on validation set: 90.46 using m=30 and depth = 18.0\n",
      "Accuracy on validation set: 80.92 using m=40 and depth = 6.0\n",
      "Accuracy on validation set: 82.28 using m=40 and depth = 7.0\n",
      "Accuracy on validation set: 86.20 using m=40 and depth = 8.0\n",
      "Accuracy on validation set: 87.22 using m=40 and depth = 9.0\n",
      "Accuracy on validation set: 87.56 using m=40 and depth = 10.0\n",
      "Accuracy on validation set: 88.42 using m=40 and depth = 11.0\n",
      "Accuracy on validation set: 88.76 using m=40 and depth = 12.0\n",
      "Accuracy on validation set: 90.29 using m=40 and depth = 13.0\n",
      "Accuracy on validation set: 91.48 using m=40 and depth = 14.0\n",
      "Accuracy on validation set: 90.80 using m=40 and depth = 15.0\n",
      "Accuracy on validation set: 90.63 using m=40 and depth = 16.0\n",
      "Accuracy on validation set: 90.63 using m=40 and depth = 17.0\n",
      "Accuracy on validation set: 90.63 using m=40 and depth = 18.0\n",
      "Accuracy on validation set: 81.43 using m=50 and depth = 6.0\n",
      "Accuracy on validation set: 81.94 using m=50 and depth = 7.0\n",
      "Accuracy on validation set: 85.69 using m=50 and depth = 8.0\n",
      "Accuracy on validation set: 87.56 using m=50 and depth = 9.0\n",
      "Accuracy on validation set: 89.10 using m=50 and depth = 10.0\n",
      "Accuracy on validation set: 89.78 using m=50 and depth = 11.0\n",
      "Accuracy on validation set: 89.10 using m=50 and depth = 12.0\n",
      "Accuracy on validation set: 89.27 using m=50 and depth = 13.0\n",
      "Accuracy on validation set: 90.29 using m=50 and depth = 14.0\n",
      "Accuracy on validation set: 90.29 using m=50 and depth = 15.0\n",
      "Accuracy on validation set: 89.78 using m=50 and depth = 16.0\n",
      "Accuracy on validation set: 90.63 using m=50 and depth = 17.0\n",
      "Accuracy on validation set: 91.31 using m=50 and depth = 18.0\n",
      "Accuracy on validation set: 81.60 using m=60 and depth = 6.0\n",
      "Accuracy on validation set: 81.94 using m=60 and depth = 7.0\n",
      "Accuracy on validation set: 86.20 using m=60 and depth = 8.0\n",
      "Accuracy on validation set: 87.39 using m=60 and depth = 9.0\n",
      "Accuracy on validation set: 88.25 using m=60 and depth = 10.0\n",
      "Accuracy on validation set: 88.93 using m=60 and depth = 11.0\n",
      "Accuracy on validation set: 89.44 using m=60 and depth = 12.0\n",
      "Accuracy on validation set: 89.95 using m=60 and depth = 13.0\n",
      "Accuracy on validation set: 89.78 using m=60 and depth = 14.0\n",
      "Accuracy on validation set: 90.97 using m=60 and depth = 15.0\n",
      "Accuracy on validation set: 91.14 using m=60 and depth = 16.0\n",
      "Accuracy on validation set: 91.82 using m=60 and depth = 17.0\n",
      "Accuracy on validation set: 90.97 using m=60 and depth = 18.0\n",
      "Accuracy on validation set: 80.24 using m=70 and depth = 6.0\n",
      "Accuracy on validation set: 83.48 using m=70 and depth = 7.0\n",
      "Accuracy on validation set: 86.54 using m=70 and depth = 8.0\n",
      "Accuracy on validation set: 87.22 using m=70 and depth = 9.0\n",
      "Accuracy on validation set: 89.44 using m=70 and depth = 10.0\n",
      "Accuracy on validation set: 89.44 using m=70 and depth = 11.0\n",
      "Accuracy on validation set: 89.44 using m=70 and depth = 12.0\n",
      "Accuracy on validation set: 89.95 using m=70 and depth = 13.0\n",
      "Accuracy on validation set: 90.63 using m=70 and depth = 14.0\n",
      "Accuracy on validation set: 91.31 using m=70 and depth = 15.0\n",
      "Accuracy on validation set: 90.46 using m=70 and depth = 16.0\n",
      "Accuracy on validation set: 91.31 using m=70 and depth = 17.0\n",
      "Accuracy on validation set: 90.97 using m=70 and depth = 18.0\n",
      "Accuracy on validation set: 77.51 using m=80 and depth = 6.0\n",
      "Accuracy on validation set: 83.13 using m=80 and depth = 7.0\n",
      "Accuracy on validation set: 85.18 using m=80 and depth = 8.0\n",
      "Accuracy on validation set: 87.73 using m=80 and depth = 9.0\n",
      "Accuracy on validation set: 88.25 using m=80 and depth = 10.0\n",
      "Accuracy on validation set: 89.44 using m=80 and depth = 11.0\n",
      "Accuracy on validation set: 89.27 using m=80 and depth = 12.0\n",
      "Accuracy on validation set: 89.61 using m=80 and depth = 13.0\n",
      "Accuracy on validation set: 90.97 using m=80 and depth = 14.0\n",
      "Accuracy on validation set: 90.97 using m=80 and depth = 15.0\n",
      "Accuracy on validation set: 91.65 using m=80 and depth = 16.0\n",
      "Accuracy on validation set: 90.97 using m=80 and depth = 17.0\n",
      "Accuracy on validation set: 90.29 using m=80 and depth = 18.0\n",
      "Accuracy on validation set: 80.41 using m=90 and depth = 6.0\n",
      "Accuracy on validation set: 82.28 using m=90 and depth = 7.0\n",
      "Accuracy on validation set: 85.52 using m=90 and depth = 8.0\n",
      "Accuracy on validation set: 87.05 using m=90 and depth = 9.0\n",
      "Accuracy on validation set: 87.73 using m=90 and depth = 10.0\n",
      "Accuracy on validation set: 88.93 using m=90 and depth = 11.0\n",
      "Accuracy on validation set: 89.61 using m=90 and depth = 12.0\n",
      "Accuracy on validation set: 91.14 using m=90 and depth = 13.0\n",
      "Accuracy on validation set: 90.80 using m=90 and depth = 14.0\n",
      "Accuracy on validation set: 90.12 using m=90 and depth = 15.0\n",
      "Accuracy on validation set: 89.95 using m=90 and depth = 16.0\n",
      "Accuracy on validation set: 90.63 using m=90 and depth = 17.0\n",
      "Accuracy on validation set: 91.48 using m=90 and depth = 18.0\n"
     ]
    }
   ],
   "source": [
    "m_arr = np.arange(10, 100, 10)\n",
    "depth_arr = np.linspace(6, 18, 13)\n",
    "\n",
    "for m in m_arr:\n",
    "    for max_depth in depth_arr:\n",
    "        classifiers = build_classifiers(m, max_depth)\n",
    "        predicted = vote(classifiers, x_val)\n",
    "        accuracy = accuracy_score(y_val, predicted)\n",
    "        print(\"Accuracy on validation set: {:.2f} using m={:} and depth = {:}\".format(accuracy*100, m, max_depth))"
   ]
  },
  {
   "cell_type": "code",
   "execution_count": 10,
   "metadata": {},
   "outputs": [
    {
     "name": "stdout",
     "output_type": "stream",
     "text": [
      "Accuracy on validation set: 90.12 %\n"
     ]
    }
   ],
   "source": [
    "m = 100\n",
    "max_depth = 12\n",
    "classifiers = build_classifiers(m, max_depth)\n",
    "predicted = vote(classifiers, x_val)\n",
    "accuracy = accuracy_score(y_val, predicted)\n",
    "print(\"Accuracy on validation set: {:.2f} %\".format(accuracy*100))"
   ]
  },
  {
   "cell_type": "code",
   "execution_count": 11,
   "metadata": {},
   "outputs": [
    {
     "name": "stdout",
     "output_type": "stream",
     "text": [
      "Accuracy on validation set: 89.95 %\n"
     ]
    }
   ],
   "source": [
    "m = 25\n",
    "max_depth = 13\n",
    "classifiers = build_classifiers(m, max_depth)\n",
    "predicted = vote(classifiers, x_val)\n",
    "accuracy = accuracy_score(y_val, predicted)\n",
    "print(\"Accuracy on validation set: {:.2f} %\".format(accuracy*100))"
   ]
  },
  {
   "cell_type": "markdown",
   "metadata": {},
   "source": [
    "# FINAL EVALUATION OF THE MODEL: Bagging on decision trees"
   ]
  },
  {
   "cell_type": "code",
   "execution_count": 12,
   "metadata": {},
   "outputs": [
    {
     "name": "stdout",
     "output_type": "stream",
     "text": [
      "Accuracy on trainig set: 97.27 %\n",
      "Accuracy on validation set: 88.59 %\n",
      "Accuracy on validation set: 94.56 %\n"
     ]
    }
   ],
   "source": [
    "m = 25\n",
    "max_depth = 13\n",
    "classifiers = build_classifiers(m, max_depth)\n",
    "\n",
    "predicted = vote(classifiers, x_train)\n",
    "accuracy = accuracy_score(y_train, predicted)\n",
    "print(\"Accuracy on trainig set: {:.2f} %\".format(accuracy*100))\n",
    "\n",
    "predicted = vote(classifiers, x_val)\n",
    "accuracy = accuracy_score(y_val, predicted)\n",
    "print(\"Accuracy on validation set: {:.2f} %\".format(accuracy*100))\n",
    "\n",
    "\n",
    "predicted = vote(classifiers, x_test)\n",
    "accuracy = accuracy_score(y_test, predicted)\n",
    "print(\"Accuracy on validation set: {:.2f} %\".format(accuracy*100))"
   ]
  },
  {
   "cell_type": "markdown",
   "metadata": {},
   "source": [
    "# XGBClassifier using xgboost library"
   ]
  },
  {
   "cell_type": "code",
   "execution_count": 13,
   "metadata": {},
   "outputs": [
    {
     "name": "stdout",
     "output_type": "stream",
     "text": [
      "[18:00:37] WARNING: ../src/learner.cc:1095: Starting in XGBoost 1.3.0, the default evaluation metric used with the objective 'multi:softprob' was changed from 'merror' to 'mlogloss'. Explicitly set eval_metric if you'd like to restore the old behavior.\n"
     ]
    },
    {
     "data": {
      "text/plain": [
       "XGBClassifier(base_score=0.5, booster='gbtree', colsample_bylevel=1,\n",
       "              colsample_bynode=1, colsample_bytree=1, gamma=0, gpu_id=-1,\n",
       "              importance_type='gain', interaction_constraints='',\n",
       "              learning_rate=0.300000012, max_delta_step=0, max_depth=15,\n",
       "              min_child_weight=2, missing=nan, monotone_constraints='()',\n",
       "              n_estimators=100, n_jobs=4, num_parallel_tree=1,\n",
       "              objective='multi:softprob', random_state=0, reg_alpha=0,\n",
       "              reg_lambda=1, scale_pos_weight=None, subsample=1,\n",
       "              tree_method='exact', validate_parameters=1, verbosity=None)"
      ]
     },
     "execution_count": 13,
     "metadata": {},
     "output_type": "execute_result"
    }
   ],
   "source": [
    "n_estimators =100\n",
    "max_depth = 15\n",
    "min_child_weight = 2\n",
    "\n",
    "classifier = xgb.XGBClassifier(n_estimators=n_estimators, max_depth=max_depth, min_child_weight=min_child_weight)\n",
    "classifier.fit(x_train, y_train)"
   ]
  },
  {
   "cell_type": "code",
   "execution_count": 14,
   "metadata": {},
   "outputs": [
    {
     "name": "stdout",
     "output_type": "stream",
     "text": [
      "\n",
      "Accuracy on testing set: 92.6746 %\n"
     ]
    }
   ],
   "source": [
    "output = classifier.predict(x_val)\n",
    "target = y_val\n",
    "accuracy = sum(output == target)/ len(target)\n",
    "print(\"\\nAccuracy on testing set: {:.4f} %\".format(accuracy*100))"
   ]
  },
  {
   "cell_type": "markdown",
   "metadata": {},
   "source": [
    "## Feature importance"
   ]
  },
  {
   "cell_type": "code",
   "execution_count": 15,
   "metadata": {},
   "outputs": [
    {
     "data": {
      "text/html": [
       "<div>\n",
       "<style scoped>\n",
       "    .dataframe tbody tr th:only-of-type {\n",
       "        vertical-align: middle;\n",
       "    }\n",
       "\n",
       "    .dataframe tbody tr th {\n",
       "        vertical-align: top;\n",
       "    }\n",
       "\n",
       "    .dataframe thead th {\n",
       "        text-align: right;\n",
       "    }\n",
       "</style>\n",
       "<table border=\"1\" class=\"dataframe\">\n",
       "  <thead>\n",
       "    <tr style=\"text-align: right;\">\n",
       "      <th></th>\n",
       "      <th>score</th>\n",
       "      <th>name_features</th>\n",
       "    </tr>\n",
       "  </thead>\n",
       "  <tbody>\n",
       "    <tr>\n",
       "      <th>f0</th>\n",
       "      <td>982</td>\n",
       "      <td>drinker_casual drinker</td>\n",
       "    </tr>\n",
       "    <tr>\n",
       "      <th>f2</th>\n",
       "      <td>942</td>\n",
       "      <td>cuisine_x_Mexican</td>\n",
       "    </tr>\n",
       "    <tr>\n",
       "      <th>f1</th>\n",
       "      <td>889</td>\n",
       "      <td>weight</td>\n",
       "    </tr>\n",
       "    <tr>\n",
       "      <th>f133</th>\n",
       "      <td>554</td>\n",
       "      <td>religion_Christian</td>\n",
       "    </tr>\n",
       "    <tr>\n",
       "      <th>f128</th>\n",
       "      <td>343</td>\n",
       "      <td>cuisine_y_Japanese</td>\n",
       "    </tr>\n",
       "    <tr>\n",
       "      <th>f7</th>\n",
       "      <td>316</td>\n",
       "      <td>smoking</td>\n",
       "    </tr>\n",
       "    <tr>\n",
       "      <th>f131</th>\n",
       "      <td>289</td>\n",
       "      <td>color_black</td>\n",
       "    </tr>\n",
       "    <tr>\n",
       "      <th>f123</th>\n",
       "      <td>275</td>\n",
       "      <td>closing</td>\n",
       "    </tr>\n",
       "    <tr>\n",
       "      <th>f129</th>\n",
       "      <td>249</td>\n",
       "      <td>parking_lot_yes</td>\n",
       "    </tr>\n",
       "    <tr>\n",
       "      <th>f9</th>\n",
       "      <td>188</td>\n",
       "      <td>height</td>\n",
       "    </tr>\n",
       "    <tr>\n",
       "      <th>f3</th>\n",
       "      <td>187</td>\n",
       "      <td>cuisine_y_Mexican</td>\n",
       "    </tr>\n",
       "    <tr>\n",
       "      <th>f22</th>\n",
       "      <td>186</td>\n",
       "      <td>interest_variety</td>\n",
       "    </tr>\n",
       "    <tr>\n",
       "      <th>f8</th>\n",
       "      <td>183</td>\n",
       "      <td>open_10_12</td>\n",
       "    </tr>\n",
       "    <tr>\n",
       "      <th>f37</th>\n",
       "      <td>179</td>\n",
       "      <td>open_02_04</td>\n",
       "    </tr>\n",
       "    <tr>\n",
       "      <th>f19</th>\n",
       "      <td>173</td>\n",
       "      <td>company_solitary</td>\n",
       "    </tr>\n",
       "  </tbody>\n",
       "</table>\n",
       "</div>"
      ],
      "text/plain": [
       "      score           name_features\n",
       "f0      982  drinker_casual drinker\n",
       "f2      942       cuisine_x_Mexican\n",
       "f1      889                  weight\n",
       "f133    554      religion_Christian\n",
       "f128    343      cuisine_y_Japanese\n",
       "f7      316                 smoking\n",
       "f131    289             color_black\n",
       "f123    275                 closing\n",
       "f129    249         parking_lot_yes\n",
       "f9      188                  height\n",
       "f3      187       cuisine_y_Mexican\n",
       "f22     186        interest_variety\n",
       "f8      183              open_10_12\n",
       "f37     179              open_02_04\n",
       "f19     173        company_solitary"
      ]
     },
     "execution_count": 15,
     "metadata": {},
     "output_type": "execute_result"
    }
   ],
   "source": [
    "feature_important = classifier.get_booster().get_score(importance_type='weight')\n",
    "keys = list(feature_important.keys())\n",
    "values = list(feature_important.values())\n",
    "\n",
    "features = list(data.columns)\n",
    "name_features = []\n",
    "for k in keys:\n",
    "    index = int(k[1:])\n",
    "    name_features.append(features[index])\n",
    "\n",
    "\n",
    "df_feature_important = pd.DataFrame(data=values, index=keys, columns=[\"score\"]).sort_values(by = \"score\", ascending=False)\n",
    "df_feature_important['name_features']=name_features\n",
    "df_feature_important.head(15)"
   ]
  },
  {
   "cell_type": "code",
   "execution_count": 16,
   "metadata": {},
   "outputs": [
    {
     "data": {
      "text/plain": [
       "<AxesSubplot:title={'center':'Feature importance'}, xlabel='F score', ylabel='Features'>"
      ]
     },
     "execution_count": 16,
     "metadata": {},
     "output_type": "execute_result"
    },
    {
     "data": {
      "image/png": "[encoded data removed]",
      "text/plain": [
       "<Figure size 432x288 with 1 Axes>"
      ]
     },
     "metadata": {
      "needs_background": "light"
     },
     "output_type": "display_data"
    }
   ],
   "source": [
    "xgb.plot_importance(classifier, importance_type='weight',max_num_features=15 )"
   ]
  },
  {
   "cell_type": "code",
   "execution_count": 17,
   "metadata": {},
   "outputs": [
    {
     "data": {
      "text/html": [
       "<div>\n",
       "<style scoped>\n",
       "    .dataframe tbody tr th:only-of-type {\n",
       "        vertical-align: middle;\n",
       "    }\n",
       "\n",
       "    .dataframe tbody tr th {\n",
       "        vertical-align: top;\n",
       "    }\n",
       "\n",
       "    .dataframe thead th {\n",
       "        text-align: right;\n",
       "    }\n",
       "</style>\n",
       "<table border=\"1\" class=\"dataframe\">\n",
       "  <thead>\n",
       "    <tr style=\"text-align: right;\">\n",
       "      <th></th>\n",
       "      <th>score</th>\n",
       "      <th>name_features</th>\n",
       "    </tr>\n",
       "  </thead>\n",
       "  <tbody>\n",
       "    <tr>\n",
       "      <th>f27</th>\n",
       "      <td>6.196689</td>\n",
       "      <td>drinker_casual drinker</td>\n",
       "    </tr>\n",
       "    <tr>\n",
       "      <th>f104</th>\n",
       "      <td>4.503568</td>\n",
       "      <td>cuisine_x_Mexican</td>\n",
       "    </tr>\n",
       "    <tr>\n",
       "      <th>f29</th>\n",
       "      <td>3.529492</td>\n",
       "      <td>weight</td>\n",
       "    </tr>\n",
       "    <tr>\n",
       "      <th>f126</th>\n",
       "      <td>2.600444</td>\n",
       "      <td>religion_Christian</td>\n",
       "    </tr>\n",
       "    <tr>\n",
       "      <th>f115</th>\n",
       "      <td>2.301103</td>\n",
       "      <td>cuisine_y_Japanese</td>\n",
       "    </tr>\n",
       "    <tr>\n",
       "      <th>f54</th>\n",
       "      <td>2.245126</td>\n",
       "      <td>smoking</td>\n",
       "    </tr>\n",
       "    <tr>\n",
       "      <th>f40</th>\n",
       "      <td>2.208852</td>\n",
       "      <td>color_black</td>\n",
       "    </tr>\n",
       "    <tr>\n",
       "      <th>f111</th>\n",
       "      <td>2.188123</td>\n",
       "      <td>closing</td>\n",
       "    </tr>\n",
       "    <tr>\n",
       "      <th>f36</th>\n",
       "      <td>1.962631</td>\n",
       "      <td>parking_lot_yes</td>\n",
       "    </tr>\n",
       "    <tr>\n",
       "      <th>f133</th>\n",
       "      <td>1.656195</td>\n",
       "      <td>height</td>\n",
       "    </tr>\n",
       "    <tr>\n",
       "      <th>f121</th>\n",
       "      <td>1.553364</td>\n",
       "      <td>cuisine_y_Mexican</td>\n",
       "    </tr>\n",
       "    <tr>\n",
       "      <th>f78</th>\n",
       "      <td>1.500567</td>\n",
       "      <td>interest_variety</td>\n",
       "    </tr>\n",
       "    <tr>\n",
       "      <th>f129</th>\n",
       "      <td>1.343144</td>\n",
       "      <td>open_10_12</td>\n",
       "    </tr>\n",
       "    <tr>\n",
       "      <th>f116</th>\n",
       "      <td>1.340126</td>\n",
       "      <td>open_02_04</td>\n",
       "    </tr>\n",
       "    <tr>\n",
       "      <th>f28</th>\n",
       "      <td>1.285742</td>\n",
       "      <td>company_solitary</td>\n",
       "    </tr>\n",
       "  </tbody>\n",
       "</table>\n",
       "</div>"
      ],
      "text/plain": [
       "         score           name_features\n",
       "f27   6.196689  drinker_casual drinker\n",
       "f104  4.503568       cuisine_x_Mexican\n",
       "f29   3.529492                  weight\n",
       "f126  2.600444      religion_Christian\n",
       "f115  2.301103      cuisine_y_Japanese\n",
       "f54   2.245126                 smoking\n",
       "f40   2.208852             color_black\n",
       "f111  2.188123                 closing\n",
       "f36   1.962631         parking_lot_yes\n",
       "f133  1.656195                  height\n",
       "f121  1.553364       cuisine_y_Mexican\n",
       "f78   1.500567        interest_variety\n",
       "f129  1.343144              open_10_12\n",
       "f116  1.340126              open_02_04\n",
       "f28   1.285742        company_solitary"
      ]
     },
     "execution_count": 17,
     "metadata": {},
     "output_type": "execute_result"
    }
   ],
   "source": [
    "feature_important = classifier.get_booster().get_score(importance_type='gain')\n",
    "keys = list(feature_important.keys())\n",
    "values = list(feature_important.values())\n",
    "\n",
    "features = list(data.columns)\n",
    "name_features = []\n",
    "for k in keys:\n",
    "    index = int(k[1:])\n",
    "    name_features.append(features[index])\n",
    "\n",
    "\n",
    "df_feature_important = pd.DataFrame(data=values, index=keys, columns=[\"score\"]).sort_values(by = \"score\", ascending=False)\n",
    "df_feature_important['name_features']=name_features\n",
    "df_feature_important.head(15)"
   ]
  },
  {
   "cell_type": "code",
   "execution_count": 18,
   "metadata": {},
   "outputs": [
    {
     "data": {
      "text/plain": [
       "<AxesSubplot:title={'center':'Feature importance'}, xlabel='F score', ylabel='Features'>"
      ]
     },
     "execution_count": 18,
     "metadata": {},
     "output_type": "execute_result"
    },
    {
     "data": {
      "image/png": "[encoded data removed]",
      "text/plain": [
       "<Figure size 432x288 with 1 Axes>"
      ]
     },
     "metadata": {
      "needs_background": "light"
     },
     "output_type": "display_data"
    }
   ],
   "source": [
    "xgb.plot_importance(classifier, importance_type='gain',max_num_features=15 )"
   ]
  },
  {
   "cell_type": "markdown",
   "metadata": {},
   "source": [
    "## Save model"
   ]
  },
  {
   "cell_type": "code",
   "execution_count": 19,
   "metadata": {},
   "outputs": [],
   "source": [
    "file_name = \"xgb_model.pkl\"\n",
    "\n",
    "# save\n",
    "pickle.dump(classifier, open(file_name, \"wb\"))\n",
    "\n",
    "# load\n",
    "xgb_model_loaded = pickle.load(open(file_name, \"rb\"))"
   ]
  },
  {
   "cell_type": "markdown",
   "metadata": {},
   "source": [
    "# FINAL EVALUATION OF THE MODEL: XGBoost"
   ]
  },
  {
   "cell_type": "code",
   "execution_count": 20,
   "metadata": {},
   "outputs": [
    {
     "name": "stdout",
     "output_type": "stream",
     "text": [
      "\n",
      "Accuracy on testing set: 99.6107 %\n",
      "\n",
      "Accuracy on testing set: 92.6746 %\n",
      "\n",
      "Accuracy on testing set: 95.2381 %\n"
     ]
    }
   ],
   "source": [
    "xgb_model_loaded = pickle.load(open(file_name, \"rb\"))\n",
    "\n",
    "output = xgb_model_loaded.predict(x_train)\n",
    "target = y_train\n",
    "accuracy = sum(output == target)/ len(target)\n",
    "print(\"\\nAccuracy on testing set: {:.4f} %\".format(accuracy*100))\n",
    "\n",
    "output = xgb_model_loaded.predict(x_val)\n",
    "target = y_val\n",
    "accuracy = sum(output == target)/ len(target)\n",
    "print(\"\\nAccuracy on testing set: {:.4f} %\".format(accuracy*100))\n",
    "\n",
    "output = xgb_model_loaded.predict(x_test)\n",
    "target = y_test\n",
    "accuracy = sum(output == target)/ len(target)\n",
    "print(\"\\nAccuracy on testing set: {:.4f} %\".format(accuracy*100))"
   ]
  },
  {
   "cell_type": "code",
   "execution_count": null,
   "metadata": {},
   "outputs": [],
   "source": []
  }
 ],
 "metadata": {
  "kernelspec": {
   "display_name": "Python 3",
   "language": "python",
   "name": "python3"
  },
  "language_info": {
   "codemirror_mode": {
    "name": "ipython",
    "version": 3
   },
   "file_extension": ".py",
   "mimetype": "text/x-python",
   "name": "python",
   "nbconvert_exporter": "python",
   "pygments_lexer": "ipython3",
   "version": "3.8.5"
  }
 },
 "nbformat": 4,
 "nbformat_minor": 4
}
