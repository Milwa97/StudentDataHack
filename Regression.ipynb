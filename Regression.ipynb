{
 "cells": [
  {
   "cell_type": "code",
   "execution_count": 1,
   "metadata": {},
   "outputs": [],
   "source": [
    "import pandas as pd\n",
    "import numpy as np\n",
    "import warnings\n",
    "warnings.filterwarnings('ignore')\n",
    "\n",
    "from sklearn.linear_model import LinearRegression as Lin_Reg\n",
    "from sklearn.linear_model import Ridge as Ridge_Reg\n",
    "from sklearn.linear_model import Lasso as Lasso_Reg\n",
    "from sklearn.linear_model import LogisticRegression\n",
    "\n",
    "from sklearn.model_selection import KFold\n",
    "from sklearn.model_selection import cross_val_score\n",
    "\n",
    "\n",
    "# To plot pretty figures\n",
    "import matplotlib\n",
    "import matplotlib.pyplot as plt\n",
    "import matplotlib.cm as cmx\n",
    "import matplotlib.colors as colors\n",
    "from matplotlib import cm\n",
    "from matplotlib.colors import ListedColormap, LinearSegmentedColormap\n",
    "\n",
    "plt.rcParams['axes.labelsize'] = 14\n",
    "plt.rcParams['xtick.labelsize'] = 12\n",
    "plt.rcParams['ytick.labelsize'] = 12\n",
    "plt.rcParams['figure.figsize']=12,10"
   ]
  },
  {
   "cell_type": "code",
   "execution_count": 2,
   "metadata": {},
   "outputs": [
    {
     "data": {
      "text/html": [
       "<div>\n",
       "<style scoped>\n",
       "    .dataframe tbody tr th:only-of-type {\n",
       "        vertical-align: middle;\n",
       "    }\n",
       "\n",
       "    .dataframe tbody tr th {\n",
       "        vertical-align: top;\n",
       "    }\n",
       "\n",
       "    .dataframe thead th {\n",
       "        text-align: right;\n",
       "    }\n",
       "</style>\n",
       "<table border=\"1\" class=\"dataframe\">\n",
       "  <thead>\n",
       "    <tr style=\"text-align: right;\">\n",
       "      <th></th>\n",
       "      <th>weight</th>\n",
       "      <th>height</th>\n",
       "      <th>closing</th>\n",
       "      <th>open_00_02</th>\n",
       "      <th>open_02_04</th>\n",
       "      <th>open_04_06</th>\n",
       "      <th>open_06_08</th>\n",
       "      <th>open_08_10</th>\n",
       "      <th>open_10_12</th>\n",
       "      <th>open_12_14</th>\n",
       "      <th>...</th>\n",
       "      <th>cuisine_y_Regional</th>\n",
       "      <th>cuisine_y_Seafood</th>\n",
       "      <th>cuisine_y_Vietnamese</th>\n",
       "      <th>parking_lot_none</th>\n",
       "      <th>parking_lot_public</th>\n",
       "      <th>parking_lot_valet parking</th>\n",
       "      <th>parking_lot_yes</th>\n",
       "      <th>smoking</th>\n",
       "      <th>age</th>\n",
       "      <th>target</th>\n",
       "    </tr>\n",
       "  </thead>\n",
       "  <tbody>\n",
       "    <tr>\n",
       "      <th>0</th>\n",
       "      <td>0.258262</td>\n",
       "      <td>0.569555</td>\n",
       "      <td>-2.839010</td>\n",
       "      <td>0</td>\n",
       "      <td>0</td>\n",
       "      <td>0</td>\n",
       "      <td>0</td>\n",
       "      <td>0</td>\n",
       "      <td>1</td>\n",
       "      <td>0</td>\n",
       "      <td>...</td>\n",
       "      <td>0</td>\n",
       "      <td>0</td>\n",
       "      <td>0</td>\n",
       "      <td>1</td>\n",
       "      <td>0</td>\n",
       "      <td>0</td>\n",
       "      <td>0</td>\n",
       "      <td>0</td>\n",
       "      <td>-0.451192</td>\n",
       "      <td>2</td>\n",
       "    </tr>\n",
       "    <tr>\n",
       "      <th>1</th>\n",
       "      <td>0.258262</td>\n",
       "      <td>0.569555</td>\n",
       "      <td>0.814568</td>\n",
       "      <td>1</td>\n",
       "      <td>1</td>\n",
       "      <td>1</td>\n",
       "      <td>1</td>\n",
       "      <td>1</td>\n",
       "      <td>1</td>\n",
       "      <td>1</td>\n",
       "      <td>...</td>\n",
       "      <td>0</td>\n",
       "      <td>0</td>\n",
       "      <td>0</td>\n",
       "      <td>0</td>\n",
       "      <td>1</td>\n",
       "      <td>0</td>\n",
       "      <td>0</td>\n",
       "      <td>0</td>\n",
       "      <td>-0.451192</td>\n",
       "      <td>0</td>\n",
       "    </tr>\n",
       "    <tr>\n",
       "      <th>2</th>\n",
       "      <td>0.258262</td>\n",
       "      <td>0.569555</td>\n",
       "      <td>-0.403292</td>\n",
       "      <td>0</td>\n",
       "      <td>0</td>\n",
       "      <td>0</td>\n",
       "      <td>0</td>\n",
       "      <td>0</td>\n",
       "      <td>1</td>\n",
       "      <td>1</td>\n",
       "      <td>...</td>\n",
       "      <td>0</td>\n",
       "      <td>1</td>\n",
       "      <td>0</td>\n",
       "      <td>0</td>\n",
       "      <td>0</td>\n",
       "      <td>0</td>\n",
       "      <td>1</td>\n",
       "      <td>0</td>\n",
       "      <td>-0.451192</td>\n",
       "      <td>1</td>\n",
       "    </tr>\n",
       "    <tr>\n",
       "      <th>3</th>\n",
       "      <td>0.258262</td>\n",
       "      <td>0.569555</td>\n",
       "      <td>0.510103</td>\n",
       "      <td>0</td>\n",
       "      <td>0</td>\n",
       "      <td>0</td>\n",
       "      <td>0</td>\n",
       "      <td>0</td>\n",
       "      <td>0</td>\n",
       "      <td>0</td>\n",
       "      <td>...</td>\n",
       "      <td>0</td>\n",
       "      <td>0</td>\n",
       "      <td>0</td>\n",
       "      <td>1</td>\n",
       "      <td>0</td>\n",
       "      <td>0</td>\n",
       "      <td>0</td>\n",
       "      <td>0</td>\n",
       "      <td>-0.451192</td>\n",
       "      <td>2</td>\n",
       "    </tr>\n",
       "    <tr>\n",
       "      <th>4</th>\n",
       "      <td>0.258262</td>\n",
       "      <td>0.569555</td>\n",
       "      <td>0.510103</td>\n",
       "      <td>0</td>\n",
       "      <td>0</td>\n",
       "      <td>0</td>\n",
       "      <td>0</td>\n",
       "      <td>0</td>\n",
       "      <td>0</td>\n",
       "      <td>0</td>\n",
       "      <td>...</td>\n",
       "      <td>0</td>\n",
       "      <td>0</td>\n",
       "      <td>0</td>\n",
       "      <td>1</td>\n",
       "      <td>0</td>\n",
       "      <td>0</td>\n",
       "      <td>0</td>\n",
       "      <td>0</td>\n",
       "      <td>-0.451192</td>\n",
       "      <td>2</td>\n",
       "    </tr>\n",
       "  </tbody>\n",
       "</table>\n",
       "<p>5 rows × 135 columns</p>\n",
       "</div>"
      ],
      "text/plain": [
       "     weight    height   closing  open_00_02  open_02_04  open_04_06  \\\n",
       "0  0.258262  0.569555 -2.839010           0           0           0   \n",
       "1  0.258262  0.569555  0.814568           1           1           1   \n",
       "2  0.258262  0.569555 -0.403292           0           0           0   \n",
       "3  0.258262  0.569555  0.510103           0           0           0   \n",
       "4  0.258262  0.569555  0.510103           0           0           0   \n",
       "\n",
       "   open_06_08  open_08_10  open_10_12  open_12_14  ...  cuisine_y_Regional  \\\n",
       "0           0           0           1           0  ...                   0   \n",
       "1           1           1           1           1  ...                   0   \n",
       "2           0           0           1           1  ...                   0   \n",
       "3           0           0           0           0  ...                   0   \n",
       "4           0           0           0           0  ...                   0   \n",
       "\n",
       "   cuisine_y_Seafood  cuisine_y_Vietnamese  parking_lot_none  \\\n",
       "0                  0                     0                 1   \n",
       "1                  0                     0                 0   \n",
       "2                  1                     0                 0   \n",
       "3                  0                     0                 1   \n",
       "4                  0                     0                 1   \n",
       "\n",
       "   parking_lot_public  parking_lot_valet parking  parking_lot_yes  smoking  \\\n",
       "0                   0                          0                0        0   \n",
       "1                   1                          0                0        0   \n",
       "2                   0                          0                1        0   \n",
       "3                   0                          0                0        0   \n",
       "4                   0                          0                0        0   \n",
       "\n",
       "        age  target  \n",
       "0 -0.451192       2  \n",
       "1 -0.451192       0  \n",
       "2 -0.451192       1  \n",
       "3 -0.451192       2  \n",
       "4 -0.451192       2  \n",
       "\n",
       "[5 rows x 135 columns]"
      ]
     },
     "execution_count": 2,
     "metadata": {},
     "output_type": "execute_result"
    }
   ],
   "source": [
    "data = pd.read_csv('data_normalized.csv')\n",
    "data.head(5)"
   ]
  },
  {
   "cell_type": "markdown",
   "metadata": {},
   "source": [
    "## training set, validation set, testing set"
   ]
  },
  {
   "cell_type": "code",
   "execution_count": 3,
   "metadata": {},
   "outputs": [],
   "source": [
    "def split_data(data_x: np.ndarray, data_y: np.ndarray):\n",
    "    \n",
    "    ordering = np.arange(data_x.shape[0])\n",
    "    np.random.shuffle(ordering)\n",
    "    data_x = data_x[ordering]\n",
    "    data_y = data_y[ordering]\n",
    "    \n",
    "    valid_start = int(len(data_x) * 0.7)\n",
    "    test_start = int(len(data_x) * 0.9)\n",
    "    \n",
    "    train_set = (data_x[:valid_start], data_y[:valid_start])\n",
    "    valid_set = (data_x[valid_start:test_start], data_y[valid_start:test_start])\n",
    "    test_set = (data_x[test_start:], data_y[test_start:])\n",
    "    \n",
    "    return train_set, valid_set, test_set"
   ]
  },
  {
   "cell_type": "code",
   "execution_count": 4,
   "metadata": {
    "scrolled": true
   },
   "outputs": [
    {
     "name": "stdout",
     "output_type": "stream",
     "text": [
      "(2055, 134)\n",
      "(587, 134)\n",
      "(294, 134)\n"
     ]
    }
   ],
   "source": [
    "y = np.array(data['target'])\n",
    "x = np.array(data.drop(['target'], axis=1))\n",
    "\n",
    "train_set, valid_set, test_set = split_data(x,y)\n",
    "\n",
    "print(train_set[0].shape)\n",
    "print(valid_set[0].shape)\n",
    "print(test_set[0].shape)"
   ]
  },
  {
   "cell_type": "code",
   "execution_count": 5,
   "metadata": {},
   "outputs": [],
   "source": [
    "x_train = train_set[0]\n",
    "y_train = train_set[1]\n",
    "\n",
    "x_val = valid_set[0]\n",
    "y_val = valid_set[1]\n",
    "\n",
    "x_test = test_set[0]\n",
    "y_test = test_set[1]"
   ]
  },
  {
   "cell_type": "markdown",
   "metadata": {},
   "source": [
    "# Logistic regression"
   ]
  },
  {
   "cell_type": "code",
   "execution_count": 6,
   "metadata": {},
   "outputs": [],
   "source": [
    "n=30\n",
    "\n",
    "C_arr = np.linspace(-10, 5, n)\n",
    "train_accuracy = np.zeros(n)\n",
    "val_accuracy = np.zeros(n)\n",
    "\n",
    "for ind, C in enumerate(C_arr):    \n",
    "    \n",
    "    logreg = LogisticRegression(solver='newton-cg', C=10**C)\n",
    "    logreg.fit(x_train, y_train)\n",
    "\n",
    "    \n",
    "    # Evaluate train & test performance\n",
    "    output = logreg.predict(x_train)\n",
    "    target = y_train\n",
    "    train_accuracy[ind] =sum(output == target)/ len(target)\n",
    "\n",
    "    output = logreg.predict(x_val)\n",
    "    target = y_val\n",
    "    val_accuracy[ind] =sum(output == target)/ len(target)"
   ]
  },
  {
   "cell_type": "code",
   "execution_count": 7,
   "metadata": {},
   "outputs": [
    {
     "data": {
      "image/png": "[encoded data removed]",
      "text/plain": [
       "<Figure size 1296x576 with 1 Axes>"
      ]
     },
     "metadata": {
      "needs_background": "light"
     },
     "output_type": "display_data"
    }
   ],
   "source": [
    "# Plotting\n",
    "plt.figure(figsize=(18, 8))\n",
    "\n",
    "plt.plot(C_arr, train_accuracy, 'bo-', label=r'accuracy training set', color=\"violet\", alpha=0.6, linewidth=3)\n",
    "plt.plot(C_arr, val_accuracy, 'bo-', label=r'accuracy val set', color=\"darkviolet\", alpha=0.6, linewidth=3)\n",
    "\n",
    "plt.xlabel('C value'); plt.ylabel(r'accuracy')\n",
    "plt.title(r'Evaluate logistic regression with different C')\n",
    "plt.legend(loc='best')\n",
    "plt.grid()"
   ]
  },
  {
   "cell_type": "markdown",
   "metadata": {},
   "source": [
    "# FINAL EVALUATION OF THE MODEL"
   ]
  },
  {
   "cell_type": "code",
   "execution_count": 17,
   "metadata": {},
   "outputs": [
    {
     "name": "stdout",
     "output_type": "stream",
     "text": [
      "Logistic Regression\n",
      "\n",
      "Accuracy on train set: 79.90 %\n",
      "\n",
      "Accuracy on validation set: 72.40 %\n",
      "\n",
      "Accuracy on testing set: 72.11 %\n"
     ]
    }
   ],
   "source": [
    "index = np.argmax(val_accuracy)\n",
    "C_best= C_arr[index]\n",
    "\n",
    "logreg = LogisticRegression(solver = 'newton-cg',C=10)\n",
    "logreg.fit(x_train, y_train)\n",
    "coefficients = logreg.coef_\n",
    "\n",
    "print('Logistic Regression')\n",
    "\n",
    "output = logreg.predict(x_train)\n",
    "target = y_train\n",
    "accuracy = sum(output == target)/ len(target)\n",
    "print(\"\\nAccuracy on train set: {:.2f} %\".format(accuracy*100))\n",
    "\n",
    "output = logreg.predict(x_val)\n",
    "target = y_val\n",
    "accuracy = sum(output == target)/ len(target)\n",
    "print(\"\\nAccuracy on validation set: {:.2f} %\".format(accuracy*100))\n",
    "\n",
    "\n",
    "output = logreg.predict(x_test)\n",
    "target = y_test\n",
    "accuracy = sum(output == target)/ len(target)\n",
    "print(\"\\nAccuracy on testing set: {:.2f} %\".format(accuracy*100))"
   ]
  },
  {
   "cell_type": "markdown",
   "metadata": {},
   "source": [
    "### Check, what features have highest and lowest coefficients in logistic regression"
   ]
  },
  {
   "cell_type": "code",
   "execution_count": 9,
   "metadata": {},
   "outputs": [],
   "source": [
    "features = list(data.columns)[:-1]\n",
    "\n",
    "def get_most_correlated(coeffs, features, treshold):\n",
    "    coeffs, features = zip(*sorted(zip( coeffs, features)))  \n",
    "\n",
    "    for coef, feat in zip(coeffs, features):\n",
    "        if abs(coef) > treshold:\n",
    "            print(\"coef = {:.4f} \\tfor\\t {:}\".format(coef, feat))\n",
    "            \n",
    "            \n",
    "def get_least_correlated(coeffs, features, treshold):\n",
    "    coeffs, features = zip(*sorted(zip( coeffs, features)))  ## sorting elements in (val, freq) indexing on \n",
    "\n",
    "    for coef, feat in zip(coeffs, features):\n",
    "        if abs(coef) < treshold:\n",
    "            print(\"coef = {:.4f} \\tfor\\t {:}\".format(coef, feat))"
   ]
  },
  {
   "cell_type": "markdown",
   "metadata": {},
   "source": [
    "## most important"
   ]
  },
  {
   "cell_type": "code",
   "execution_count": 10,
   "metadata": {},
   "outputs": [
    {
     "name": "stdout",
     "output_type": "stream",
     "text": [
      "Most correlated for 0 star\n",
      "coef = -5.9045 \tfor\t cuisine_x_Japanese\n",
      "coef = -5.0584 \tfor\t religion_Mormon\n",
      "coef = -3.8867 \tfor\t activity_professional\n",
      "coef = -3.7836 \tfor\t cuisine_y_Cafe-Coffee_Shop\n",
      "coef = -3.6075 \tfor\t cuisine_x_Tex-Mex\n",
      "coef = 3.4697 \tfor\t cuisine_y_Bakery\n",
      "coef = 3.6145 \tfor\t marital_status_widow\n",
      "coef = 4.1639 \tfor\t color_orange\n",
      "coef = 4.8948 \tfor\t religion_Jewish\n",
      "coef = 4.9409 \tfor\t activity_unemployed\n",
      "coef = 5.4593 \tfor\t cuisine_x_Turkish\n"
     ]
    }
   ],
   "source": [
    "print(\"Most correlated for 0 star\")\n",
    "get_most_correlated(coefficients[0], features, 3)"
   ]
  },
  {
   "cell_type": "code",
   "execution_count": 11,
   "metadata": {},
   "outputs": [
    {
     "name": "stdout",
     "output_type": "stream",
     "text": [
      "Most correlated for 1 star\n",
      "coef = -4.1945 \tfor\t cuisine_y_Vietnamese\n",
      "coef = -3.4482 \tfor\t color_orange\n",
      "coef = 4.0052 \tfor\t cuisine_y_Armenian\n",
      "coef = 4.4393 \tfor\t religion_Mormon\n",
      "coef = 5.0946 \tfor\t cuisine_y_Game\n"
     ]
    }
   ],
   "source": [
    "print(\"Most correlated for 1 star\")\n",
    "get_most_correlated(coefficients[1], features, 3)"
   ]
  },
  {
   "cell_type": "code",
   "execution_count": 12,
   "metadata": {},
   "outputs": [
    {
     "name": "stdout",
     "output_type": "stream",
     "text": [
      "Most correlated for 2 star\n",
      "coef = -5.7481 \tfor\t cuisine_x_Turkish\n",
      "coef = -3.8684 \tfor\t cuisine_y_Bakery\n",
      "coef = -3.6613 \tfor\t activity_unemployed\n",
      "coef = -3.1620 \tfor\t cuisine_y_Game\n",
      "coef = 3.0355 \tfor\t cuisine_x_Portuguese\n",
      "coef = 3.0502 \tfor\t cuisine_x_Polynesian\n",
      "coef = 3.1269 \tfor\t cuisine_x_Tex-Mex\n",
      "coef = 3.2028 \tfor\t cuisine_x_Polish\n",
      "coef = 3.2674 \tfor\t cuisine_x_Breakfast-Brunch\n",
      "coef = 3.2884 \tfor\t cuisine_x_Japanese\n"
     ]
    }
   ],
   "source": [
    "print(\"Most correlated for 2 star\")\n",
    "get_most_correlated(coefficients[2], features, 3)"
   ]
  },
  {
   "cell_type": "code",
   "execution_count": null,
   "metadata": {},
   "outputs": [],
   "source": []
  }
 ],
 "metadata": {
  "kernelspec": {
   "display_name": "Python 3",
   "language": "python",
   "name": "python3"
  },
  "language_info": {
   "codemirror_mode": {
    "name": "ipython",
    "version": 3
   },
   "file_extension": ".py",
   "mimetype": "text/x-python",
   "name": "python",
   "nbconvert_exporter": "python",
   "pygments_lexer": "ipython3",
   "version": "3.8.5"
  }
 },
 "nbformat": 4,
 "nbformat_minor": 2
}
