{
 "cells": [
  {
   "cell_type": "code",
   "execution_count": 1,
   "metadata": {},
   "outputs": [],
   "source": [
    "import pandas as pd\n",
    "import numpy as np\n",
    "import warnings\n",
    "warnings.filterwarnings('ignore')\n",
    "\n",
    "from sklearn.svm import SVC\n",
    "from typing import List, Tuple\n",
    "import matplotlib.pyplot as plt"
   ]
  },
  {
   "cell_type": "code",
   "execution_count": 2,
   "metadata": {},
   "outputs": [
    {
     "data": {
      "text/html": [
       "<div>\n",
       "<style scoped>\n",
       "    .dataframe tbody tr th:only-of-type {\n",
       "        vertical-align: middle;\n",
       "    }\n",
       "\n",
       "    .dataframe tbody tr th {\n",
       "        vertical-align: top;\n",
       "    }\n",
       "\n",
       "    .dataframe thead th {\n",
       "        text-align: right;\n",
       "    }\n",
       "</style>\n",
       "<table border=\"1\" class=\"dataframe\">\n",
       "  <thead>\n",
       "    <tr style=\"text-align: right;\">\n",
       "      <th></th>\n",
       "      <th>weight</th>\n",
       "      <th>height</th>\n",
       "      <th>closing</th>\n",
       "      <th>open_00_02</th>\n",
       "      <th>open_02_04</th>\n",
       "      <th>open_04_06</th>\n",
       "      <th>open_06_08</th>\n",
       "      <th>open_08_10</th>\n",
       "      <th>open_10_12</th>\n",
       "      <th>open_12_14</th>\n",
       "      <th>...</th>\n",
       "      <th>cuisine_y_Regional</th>\n",
       "      <th>cuisine_y_Seafood</th>\n",
       "      <th>cuisine_y_Vietnamese</th>\n",
       "      <th>parking_lot_none</th>\n",
       "      <th>parking_lot_public</th>\n",
       "      <th>parking_lot_valet parking</th>\n",
       "      <th>parking_lot_yes</th>\n",
       "      <th>smoking</th>\n",
       "      <th>age</th>\n",
       "      <th>target</th>\n",
       "    </tr>\n",
       "  </thead>\n",
       "  <tbody>\n",
       "    <tr>\n",
       "      <th>0</th>\n",
       "      <td>69</td>\n",
       "      <td>1.77</td>\n",
       "      <td>12</td>\n",
       "      <td>0</td>\n",
       "      <td>0</td>\n",
       "      <td>0</td>\n",
       "      <td>0</td>\n",
       "      <td>0</td>\n",
       "      <td>1</td>\n",
       "      <td>0</td>\n",
       "      <td>...</td>\n",
       "      <td>0</td>\n",
       "      <td>0</td>\n",
       "      <td>0</td>\n",
       "      <td>1</td>\n",
       "      <td>0</td>\n",
       "      <td>0</td>\n",
       "      <td>0</td>\n",
       "      <td>0</td>\n",
       "      <td>32</td>\n",
       "      <td>2</td>\n",
       "    </tr>\n",
       "    <tr>\n",
       "      <th>1</th>\n",
       "      <td>69</td>\n",
       "      <td>1.77</td>\n",
       "      <td>24</td>\n",
       "      <td>1</td>\n",
       "      <td>1</td>\n",
       "      <td>1</td>\n",
       "      <td>1</td>\n",
       "      <td>1</td>\n",
       "      <td>1</td>\n",
       "      <td>1</td>\n",
       "      <td>...</td>\n",
       "      <td>0</td>\n",
       "      <td>0</td>\n",
       "      <td>0</td>\n",
       "      <td>0</td>\n",
       "      <td>1</td>\n",
       "      <td>0</td>\n",
       "      <td>0</td>\n",
       "      <td>0</td>\n",
       "      <td>32</td>\n",
       "      <td>0</td>\n",
       "    </tr>\n",
       "    <tr>\n",
       "      <th>2</th>\n",
       "      <td>69</td>\n",
       "      <td>1.77</td>\n",
       "      <td>20</td>\n",
       "      <td>0</td>\n",
       "      <td>0</td>\n",
       "      <td>0</td>\n",
       "      <td>0</td>\n",
       "      <td>0</td>\n",
       "      <td>1</td>\n",
       "      <td>1</td>\n",
       "      <td>...</td>\n",
       "      <td>0</td>\n",
       "      <td>1</td>\n",
       "      <td>0</td>\n",
       "      <td>0</td>\n",
       "      <td>0</td>\n",
       "      <td>0</td>\n",
       "      <td>1</td>\n",
       "      <td>0</td>\n",
       "      <td>32</td>\n",
       "      <td>1</td>\n",
       "    </tr>\n",
       "    <tr>\n",
       "      <th>3</th>\n",
       "      <td>69</td>\n",
       "      <td>1.77</td>\n",
       "      <td>23</td>\n",
       "      <td>0</td>\n",
       "      <td>0</td>\n",
       "      <td>0</td>\n",
       "      <td>0</td>\n",
       "      <td>0</td>\n",
       "      <td>0</td>\n",
       "      <td>0</td>\n",
       "      <td>...</td>\n",
       "      <td>0</td>\n",
       "      <td>0</td>\n",
       "      <td>0</td>\n",
       "      <td>1</td>\n",
       "      <td>0</td>\n",
       "      <td>0</td>\n",
       "      <td>0</td>\n",
       "      <td>0</td>\n",
       "      <td>32</td>\n",
       "      <td>2</td>\n",
       "    </tr>\n",
       "    <tr>\n",
       "      <th>4</th>\n",
       "      <td>69</td>\n",
       "      <td>1.77</td>\n",
       "      <td>23</td>\n",
       "      <td>0</td>\n",
       "      <td>0</td>\n",
       "      <td>0</td>\n",
       "      <td>0</td>\n",
       "      <td>0</td>\n",
       "      <td>0</td>\n",
       "      <td>0</td>\n",
       "      <td>...</td>\n",
       "      <td>0</td>\n",
       "      <td>0</td>\n",
       "      <td>0</td>\n",
       "      <td>1</td>\n",
       "      <td>0</td>\n",
       "      <td>0</td>\n",
       "      <td>0</td>\n",
       "      <td>0</td>\n",
       "      <td>32</td>\n",
       "      <td>2</td>\n",
       "    </tr>\n",
       "  </tbody>\n",
       "</table>\n",
       "<p>5 rows × 135 columns</p>\n",
       "</div>"
      ],
      "text/plain": [
       "   weight  height  closing  open_00_02  open_02_04  open_04_06  open_06_08  \\\n",
       "0      69    1.77       12           0           0           0           0   \n",
       "1      69    1.77       24           1           1           1           1   \n",
       "2      69    1.77       20           0           0           0           0   \n",
       "3      69    1.77       23           0           0           0           0   \n",
       "4      69    1.77       23           0           0           0           0   \n",
       "\n",
       "   open_08_10  open_10_12  open_12_14  ...  cuisine_y_Regional  \\\n",
       "0           0           1           0  ...                   0   \n",
       "1           1           1           1  ...                   0   \n",
       "2           0           1           1  ...                   0   \n",
       "3           0           0           0  ...                   0   \n",
       "4           0           0           0  ...                   0   \n",
       "\n",
       "   cuisine_y_Seafood  cuisine_y_Vietnamese  parking_lot_none  \\\n",
       "0                  0                     0                 1   \n",
       "1                  0                     0                 0   \n",
       "2                  1                     0                 0   \n",
       "3                  0                     0                 1   \n",
       "4                  0                     0                 1   \n",
       "\n",
       "   parking_lot_public  parking_lot_valet parking  parking_lot_yes  smoking  \\\n",
       "0                   0                          0                0        0   \n",
       "1                   1                          0                0        0   \n",
       "2                   0                          0                1        0   \n",
       "3                   0                          0                0        0   \n",
       "4                   0                          0                0        0   \n",
       "\n",
       "   age  target  \n",
       "0   32       2  \n",
       "1   32       0  \n",
       "2   32       1  \n",
       "3   32       2  \n",
       "4   32       2  \n",
       "\n",
       "[5 rows x 135 columns]"
      ]
     },
     "execution_count": 2,
     "metadata": {},
     "output_type": "execute_result"
    }
   ],
   "source": [
    "data = pd.read_csv('data.csv')\n",
    "data.head(5)"
   ]
  },
  {
   "cell_type": "code",
   "execution_count": 3,
   "metadata": {},
   "outputs": [],
   "source": [
    "def split_data(data_x: np.ndarray, data_y: np.ndarray):\n",
    "    \n",
    "    ordering = np.arange(data_x.shape[0])\n",
    "    np.random.shuffle(ordering)\n",
    "    data_x = data_x[ordering]\n",
    "    data_y = data_y[ordering]\n",
    "    \n",
    "    valid_start = int(len(data_x) * 0.7)\n",
    "    test_start = int(len(data_x) * 0.9)\n",
    "    \n",
    "    train_set = (data_x[:valid_start], data_y[:valid_start])\n",
    "    valid_set = (data_x[valid_start:test_start], data_y[valid_start:test_start])\n",
    "    test_set = (data_x[test_start:], data_y[test_start:])\n",
    "    \n",
    "    return train_set, valid_set, test_set"
   ]
  },
  {
   "cell_type": "code",
   "execution_count": 4,
   "metadata": {
    "scrolled": true
   },
   "outputs": [
    {
     "name": "stdout",
     "output_type": "stream",
     "text": [
      "(2055, 134)\n",
      "(587, 134)\n",
      "(294, 134)\n"
     ]
    }
   ],
   "source": [
    "y = np.array(data['target'])\n",
    "x = np.array(data.drop(['target'], axis=1))\n",
    "\n",
    "train_set, valid_set, test_set = split_data(x,y)\n",
    "\n",
    "x_train = train_set[0]\n",
    "y_train = train_set[1]\n",
    "\n",
    "x_val = valid_set[0]\n",
    "y_val = valid_set[1]\n",
    "\n",
    "x_test = test_set[0]\n",
    "y_test = test_set[1]\n",
    "\n",
    "print(x_train.shape)\n",
    "print(x_val.shape)\n",
    "print(x_test.shape)"
   ]
  },
  {
   "cell_type": "code",
   "execution_count": 5,
   "metadata": {},
   "outputs": [],
   "source": [
    "x_train = np.concatenate( (x_train, x_val),axis= 0)\n",
    "y_train = np.concatenate( (y_train, y_val),axis= 0)"
   ]
  },
  {
   "cell_type": "markdown",
   "metadata": {},
   "source": [
    "# Grid search"
   ]
  },
  {
   "cell_type": "code",
   "execution_count": 6,
   "metadata": {},
   "outputs": [],
   "source": [
    "from typing import List, Tuple\n",
    "\n",
    "def cross_validation(X: np.ndarray, y: np.ndarray, k: int) -> List[Tuple[np.ndarray, np.ndarray, \n",
    "                                                                         np.ndarray, np.ndarray]]:  \n",
    "    n = int(len(X)/k )+1   # number of elements in each group\n",
    "    subsets_X = []\n",
    "    subsets_y = []\n",
    "    \n",
    "    for i in range(k-1):\n",
    "        subsets_X.append(X[i*n: (i+1)*n])\n",
    "        subsets_y.append(y[i*n: (i+1)*n])\n",
    "    \n",
    "    subsets_X.append(X [(k-1)*n:])\n",
    "    subsets_y.append(y [(k-1)*n:])\n",
    "    tuples_to_return = []\n",
    "    \n",
    "    for i in range(k):\n",
    "        indexes = np.arange(k)\n",
    "        train_indexes = (np.delete(indexes, i)).astype(int)\n",
    "        train_data =  np.vstack([subsets_X[j] for j in train_indexes ])\n",
    "        train_labels =  np.hstack([ subsets_y[j] for j in train_indexes] )     \n",
    "        test_data = np.array(subsets_X[i])\n",
    "        test_labels = np.array(subsets_y[i])                \n",
    "        tuples_to_return.append( (train_data, train_labels, test_data, test_labels)  )\n",
    "        \n",
    "    return tuples_to_return"
   ]
  },
  {
   "cell_type": "code",
   "execution_count": 7,
   "metadata": {},
   "outputs": [],
   "source": [
    "def find_best_params_Poly(datasets):\n",
    "    \n",
    "    C_list = list(map(lambda x : 10**(x), [-3,-2,-1,0,1,2]))\n",
    "    degree_list = list(map(lambda x : x, [1,2]))\n",
    "    coef_list = list(map(lambda x : x, [-10, -1, 0, 0.1, 1, 10]))\n",
    "    gamma_list = list(map(lambda x : 10**(-x), [0,1,2,3]))\n",
    "\n",
    "    scores = []\n",
    "    \n",
    "    for C in C_list:\n",
    "        for gamma in gamma_list:\n",
    "            for coef in coef_list:\n",
    "                for degree in degree_list:\n",
    "                    \n",
    "                    val_accuracy = []\n",
    "                    for dataset in datasets:\n",
    "                        svm = SVC(kernel = 'poly', C = C, degree = degree)\n",
    "                        svm.fit(dataset[0], dataset[1])\n",
    "                        val_acc = svm.score(dataset[2], dataset[3])\n",
    "                        val_accuracy.append(val_acc)\n",
    "\n",
    "                    scores.append( (C, gamma, np.mean(val_accuracy) ) )\n",
    "                    print(\"C = \",C, \"degree:\", degree, \"coef \", coef, \"gamma \", gamma, \"accuracy:\", np.mean(val_accuracy), len(val_accuracy))\n",
    "       \n",
    "    argmax= np.argmax(scores, axis = 0)[2]\n",
    "    print(\"\\n\\nPoly: accuracy: {:} for C = {:}, gamma  = {:}\".format( scores[argmax][2],scores[argmax][0],scores[argmax][1])  )\n",
    "    "
   ]
  },
  {
   "cell_type": "code",
   "execution_count": 8,
   "metadata": {},
   "outputs": [],
   "source": [
    "def find_best_params_rbf(datasets):\n",
    "    \n",
    "    C_list = list(map(lambda x : 10**(x), [-3,-2,-1,0,1,2]))\n",
    "    gamma_list = list(map(lambda x : 10**(-x), [0,1,2,3]))\n",
    "    coef_list = list(map(lambda x : x, [-10, -1, 0, 0.1, 1, 10]))\n",
    "\n",
    "    scores = []\n",
    "    \n",
    "    for coef in coef_list:\n",
    "        for C in C_list:\n",
    "            for gamma in gamma_list:\n",
    "                val_accuracy = []\n",
    "\n",
    "                for dataset in datasets:\n",
    "                    svm = SVC(kernel = 'rbf', C = C, gamma=gamma, coef0 = coef)\n",
    "                    svm.fit(dataset[0], dataset[1])\n",
    "                    val_acc = svm.score(dataset[2], dataset[3])\n",
    "                    val_accuracy.append(val_acc)\n",
    "\n",
    "                scores.append( (C, gamma, coef, np.mean(val_accuracy) ) )\n",
    "                #print(\"C = \", C, \"gamma\", gamma, \"mean accuracy:\", np.mean(val_accuracy), len(val_accuracy))\n",
    "\n",
    "    argmax= np.argmax(scores, axis = 0)[3]\n",
    "    print(\"rbf: accuracy: {:} for C = {:}, gamma  = {:}, coef = {:}\".format( scores[argmax][3],scores[argmax][0],scores[argmax][1], scores[argmax][2])  )\n",
    " "
   ]
  },
  {
   "cell_type": "code",
   "execution_count": 9,
   "metadata": {},
   "outputs": [],
   "source": [
    "def find_best_params_linear(datasets):\n",
    "\n",
    "    C_list = list(map(lambda x : 10**(x), [-3,-2,-1,0,1,2,3]))\n",
    "    gamma_list = list(map(lambda x : 10**(-x), [0,1,2,3]))\n",
    "    coef_list = list(map(lambda x : x, [-10, -1, 0, 0.1, 1, 10]))\n",
    "    scores = []\n",
    "    \n",
    "    for coef in coef_list:\n",
    "        for C in C_list:  \n",
    "            for gamma in gamma_list:\n",
    "\n",
    "                val_accuracy = []\n",
    "                for dataset in datasets:\n",
    "                    svm = SVC(kernel = 'linear', C = C, gamma=gamma,  coef0 = coef)\n",
    "                    svm.fit(dataset[0], dataset[1])\n",
    "                    val_acc = svm.score(dataset[2], dataset[3])\n",
    "                    val_accuracy.append(val_acc)\n",
    "\n",
    "                scores.append( (C,gamma,coef,np.mean(val_accuracy) ) )\n",
    "                #print(\"C = \", C, \"gamma\", gamma, \"mean accuracy:\", np.mean(val_accuracy), len(val_accuracy))\n",
    "    \n",
    "    argmax= np.argmax(scores, axis = 0)[3]\n",
    "    print(\"linear: accuracy: {:} for C = {:}, gamma= {:} coef = {:}\".format( scores[argmax][3],scores[argmax][0], scores[argmax][1],  scores[argmax][2],   )  )"
   ]
  },
  {
   "cell_type": "code",
   "execution_count": 10,
   "metadata": {},
   "outputs": [],
   "source": [
    "def find_best_params_sigmoid(datasets):\n",
    "       \n",
    "    C_list = list(map(lambda x : 10**(x), [-6,-5,-4,-3,-2,-1,0,1,2]))\n",
    "    scores = []\n",
    "    \n",
    "    for C in C_list:\n",
    "        val_accuracy = []\n",
    "        for dataset in datasets:\n",
    "            svm = SVC(kernel ='sigmoid', C = C)\n",
    "            svm.fit(dataset[0], dataset[1])\n",
    "            val_acc = svm.score(dataset[2], dataset[3])\n",
    "            val_accuracy.append(val_acc)\n",
    "\n",
    "            scores.append( (C, np.mean(val_accuracy) ) )\n",
    "            #print(\"C = \", C, \"mean accuracy:\", np.mean(val_accuracy), \"len\", len(val_accuracy))\n",
    "\n",
    "    argmax= np.argmax(scores, axis = 0)[1]\n",
    "    print(\"sigmoid: accuracy: {:} for C = {:}\".format( scores[argmax][1], scores[argmax][0],   )  )"
   ]
  },
  {
   "cell_type": "markdown",
   "metadata": {},
   "source": [
    "# Grid search using different kernels:"
   ]
  },
  {
   "cell_type": "code",
   "execution_count": 11,
   "metadata": {},
   "outputs": [],
   "source": [
    "datasets = cross_validation(x_train, y_train, k= 3)\n",
    "#for dataset in datasets:       \n",
    "#    datasets_val = cross_validation(dataset[0], dataset[1], k= 3)\n",
    "#    find_best_params_sigmoid(datasets_val)"
   ]
  },
  {
   "cell_type": "code",
   "execution_count": 12,
   "metadata": {},
   "outputs": [],
   "source": [
    "#for dataset in datasets:       \n",
    "#    datasets_val = cross_validation(dataset[0], dataset[1], k= 3)\n",
    "#    find_best_params_Poly(datasets_val)"
   ]
  },
  {
   "cell_type": "code",
   "execution_count": 13,
   "metadata": {},
   "outputs": [],
   "source": [
    "#for dataset in datasets:       \n",
    "#    datasets_val = cross_validation(dataset[0], dataset[1], k= 3)\n",
    "#    find_best_params_rbf(datasets_val) "
   ]
  },
  {
   "cell_type": "code",
   "execution_count": 14,
   "metadata": {},
   "outputs": [],
   "source": [
    "#for dataset in datasets:       \n",
    "#    datasets_val = cross_validation(dataset[0], dataset[1], k= 3)\n",
    "#    find_best_params_linear(datasets_val)"
   ]
  },
  {
   "cell_type": "markdown",
   "metadata": {},
   "source": [
    "## Evaluate the model with best params:"
   ]
  },
  {
   "cell_type": "code",
   "execution_count": 15,
   "metadata": {},
   "outputs": [
    {
     "name": "stdout",
     "output_type": "stream",
     "text": [
      "Linear kernel, accuracy on test set = 0.6598639455782312\n"
     ]
    }
   ],
   "source": [
    "model = SVC(kernel ='linear', C = 100,  gamma =  0.01)\n",
    "model.fit(x_train, y_train)\n",
    "accuracy = model.score(x_test, y_test)\n",
    "print(\"Linear kernel, accuracy on test set = {:}\".format(accuracy))"
   ]
  },
  {
   "cell_type": "code",
   "execution_count": 16,
   "metadata": {},
   "outputs": [
    {
     "name": "stdout",
     "output_type": "stream",
     "text": [
      "RBF kernel, accuracy on test set = 0.9523809523809523\n"
     ]
    }
   ],
   "source": [
    "model = SVC(kernel ='rbf', C = 10, gamma =  0.1, coef0 = -10)\n",
    "model.fit(x_train, y_train)\n",
    "accuracy = model.score(x_test, y_test)\n",
    "print(\"RBF kernel, accuracy on test set = {:}\".format(accuracy))  ## updated"
   ]
  },
  {
   "cell_type": "code",
   "execution_count": 17,
   "metadata": {},
   "outputs": [
    {
     "name": "stdout",
     "output_type": "stream",
     "text": [
      "poly kernel, accuracy on test set = 0.8231292517006803\n"
     ]
    }
   ],
   "source": [
    "model = SVC(kernel ='poly', C = 100, degree  = 2, gamma = 1, coef0 = -1)\n",
    "model.fit(x_train, y_train)\n",
    "accuracy = model.score(x_test, y_test)\n",
    "print(\"poly kernel, accuracy on test set = {:}\".format(accuracy)) "
   ]
  },
  {
   "cell_type": "code",
   "execution_count": 18,
   "metadata": {},
   "outputs": [
    {
     "name": "stdout",
     "output_type": "stream",
     "text": [
      "Sigmoid kernel, accuracy on test set = 0.48639455782312924\n"
     ]
    }
   ],
   "source": [
    "model = SVC(kernel ='sigmoid', C = 10)\n",
    "model.fit(x_train, y_train)\n",
    "accuracy = model.score(x_test, y_test)\n",
    "print(\"Sigmoid kernel, accuracy on test set = {:}\".format(accuracy))"
   ]
  },
  {
   "cell_type": "markdown",
   "metadata": {},
   "source": [
    "# Best model: final evaluation"
   ]
  },
  {
   "cell_type": "code",
   "execution_count": 19,
   "metadata": {},
   "outputs": [
    {
     "name": "stdout",
     "output_type": "stream",
     "text": [
      "\n",
      "Accuracy on train set: 99.70 %\n",
      "\n",
      "Accuracy on validation set: 99.66 %\n",
      "\n",
      "Accuracy on testing set: 95.24 %\n"
     ]
    }
   ],
   "source": [
    "model = SVC(kernel ='rbf', C = 10, gamma =  0.1, coef0 = -10)\n",
    "model.fit(x_train, y_train)\n",
    "\n",
    "\n",
    "output = model.predict(x_train)\n",
    "target = y_train\n",
    "accuracy = sum(output == target)/ len(target)\n",
    "print(\"\\nAccuracy on train set: {:.2f} %\".format(accuracy*100))\n",
    "\n",
    "output = model.predict(x_val)\n",
    "target = y_val\n",
    "accuracy = sum(output == target)/ len(target)\n",
    "print(\"\\nAccuracy on validation set: {:.2f} %\".format(accuracy*100))\n",
    "\n",
    "\n",
    "output = model.predict(x_test)\n",
    "target = y_test\n",
    "accuracy = sum(output == target)/ len(target)\n",
    "print(\"\\nAccuracy on testing set: {:.2f} %\".format(accuracy*100))"
   ]
  },
  {
   "cell_type": "code",
   "execution_count": null,
   "metadata": {},
   "outputs": [],
   "source": []
  }
 ],
 "metadata": {
  "kernelspec": {
   "display_name": "Python 3",
   "language": "python",
   "name": "python3"
  },
  "language_info": {
   "codemirror_mode": {
    "name": "ipython",
    "version": 3
   },
   "file_extension": ".py",
   "mimetype": "text/x-python",
   "name": "python",
   "nbconvert_exporter": "python",
   "pygments_lexer": "ipython3",
   "version": "3.8.5"
  }
 },
 "nbformat": 4,
 "nbformat_minor": 4
}
